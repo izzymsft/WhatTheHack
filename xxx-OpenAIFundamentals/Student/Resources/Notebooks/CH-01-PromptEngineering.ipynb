{
  "cells": [
    {
      "cell_type": "markdown",
      "source": [
        "# Challenge 01 - Prompt Engineering"
      ],
      "metadata": {
        "nteract": {
          "transient": {
            "deleting": false
          }
        }
      }
    },
    {
      "cell_type": "markdown",
      "source": [
        "Quick tip! To view the Table of Contents for this Notebook in VS Code, in the \"Explorer\" tab, expand the \"Outline\" section. If using Azure AI Machine Learning Studio, click the hamburger icon in the top left > View > Table of Contents."
      ],
      "metadata": {
        "nteract": {
          "transient": {
            "deleting": false
          }
        }
      }
    },
    {
      "cell_type": "markdown",
      "source": [
        "## 1. Parameter Experimentation\r\n",
        "We specify the hyperparameters for the Azure OpenAI models within the helper functions. User can tune the parameters according to different needs.\r\n",
        "\r\n",
        "\r\n",
        "###### **Temperature**\r\n",
        "Temperature ranges from 0 to 1.\r\n",
        "Here is a quick breakdown of how it works:\r\n",
        "- Low temperature (0 to 0.3): More focused, coherent, and conservative outputs.\r\n",
        "- Medium temperature (0.3 to 0.7): Balanced creativity and coherence.\r\n",
        "- High temperature (0.7 to 1): Highly creative and diverse, but potentially less coherent.\r\n",
        "\r\n",
        "\r\n",
        "###### **Max_tokens**\r\n",
        "Max tokens determine the maximum length of the generated text. By setting a limit, you can control how much the AI says, making sure it doesn't give too long of an answer.\r\n",
        "\r\n",
        "###### **Top_p**\r\n",
        "Sets the probability mass cutoff for token sampling, affecting the breadth of options the AI considers. \r\n",
        "Higher values lead to more randomness, while lower values result in more focused outputs.\r\n",
        "\r\n",
        "###### **Diversity_penalty**\r\n",
        "Diversity_penalty makes sure that the text that is generated is varied by giving a penalty to tokens that have already been used in the response.\r\n",
        "\r\n",
        "It ranges from 0 to 2, with higher values resulting in more diverse output.\r\n",
        "- Low diversity_penalty (0): No penalty applied; may have repetitive phrases.\r\n",
        "- Medium diversity_penalty (1): Balanced diversity and coherence.\r\n",
        "- High diversity_penalty (2): Maximum diversity, may affect coherence.\r\n",
        "\r\n",
        "\r\n"
      ],
      "metadata": {
        "nteract": {
          "transient": {
            "deleting": false
          }
        }
      }
    },
    {
      "cell_type": "markdown",
      "source": [
        "### 1.1 Let's Start Implementation!\r\n",
        "Let's first set up the Challenge. Load the API key and relevant Python libraries."
      ],
      "metadata": {
        "nteract": {
          "transient": {
            "deleting": false
          }
        }
      }
    },
    {
      "cell_type": "code",
      "source": [
        "!pip install --upgrade openai"
      ],
      "outputs": [],
      "execution_count": null,
      "metadata": {
        "jupyter": {
          "source_hidden": false,
          "outputs_hidden": false
        },
        "nteract": {
          "transient": {
            "deleting": false
          }
        },
        "gather": {
          "logged": 1684951747223
        }
      }
    },
    {
      "cell_type": "code",
      "source": [
        "!pip show openai"
      ],
      "outputs": [],
      "execution_count": null,
      "metadata": {
        "jupyter": {
          "source_hidden": false,
          "outputs_hidden": false
        },
        "nteract": {
          "transient": {
            "deleting": false
          }
        }
      }
    },
    {
      "cell_type": "code",
      "source": [
        "!pip install python-dotenv"
      ],
      "outputs": [],
      "execution_count": null,
      "metadata": {
        "jupyter": {
          "source_hidden": false,
          "outputs_hidden": false
        },
        "nteract": {
          "transient": {
            "deleting": false
          }
        },
        "gather": {
          "logged": 1684938149359
        }
      }
    },
    {
      "cell_type": "markdown",
      "source": [
        "#### Create the environment file \".env\""
      ],
      "metadata": {
        "nteract": {
          "transient": {
            "deleting": false
          }
        }
      }
    },
    {
      "cell_type": "code",
      "source": [
        "# set up an environment\r\n",
        "\r\n",
        "'''\r\n",
        "OPENAI_API_KEY=a34fa59f7e2140929062a3784b3094f4\r\n",
        "OPENAI_API_BASE=https://aoai00.openai.azure.com/\r\n",
        "DOCUMENT_MODEL_NAME=ada-search-doc\r\n",
        "QUERY_MODEL_NAME=ada-search-doc\r\n",
        "TEXT_DAVINCI_MODEL_NAME=text-davinci-003\r\n",
        "TEXT_BABBAGE_MODEL_NAME=text-babbage-001\r\n",
        "TEXT_CURIE_MODEL_NAME=text-curie-001\r\n",
        "TEXT_ADA_MODEL_NAME=text-ada-001\r\n",
        "CHAT_MODEL_NAME=chat\r\n",
        "'''"
      ],
      "outputs": [],
      "execution_count": null,
      "metadata": {
        "jupyter": {
          "source_hidden": false,
          "outputs_hidden": false
        },
        "nteract": {
          "transient": {
            "deleting": false
          }
        },
        "gather": {
          "logged": 1685051572271
        }
      }
    },
    {
      "cell_type": "code",
      "source": [
        "\r\n",
        "#os.environ[\"CHAT_MODEL_NAME\"] = \"chat\""
      ],
      "outputs": [],
      "execution_count": 16,
      "metadata": {
        "jupyter": {
          "source_hidden": false,
          "outputs_hidden": false
        },
        "nteract": {
          "transient": {
            "deleting": false
          }
        },
        "gather": {
          "logged": 1686934377762
        }
      }
    },
    {
      "cell_type": "markdown",
      "source": [
        "####  Set up Azure OpenAI Environment"
      ],
      "metadata": {
        "nteract": {
          "transient": {
            "deleting": false
          }
        }
      }
    },
    {
      "cell_type": "code",
      "source": [
        "import openai\r\n",
        "import os\r\n",
        "import json\r\n",
        "from dotenv import load_dotenv, find_dotenv\r\n",
        "load_dotenv(find_dotenv())"
      ],
      "outputs": [
        {
          "output_type": "execute_result",
          "execution_count": 1,
          "data": {
            "text/plain": "True"
          },
          "metadata": {}
        }
      ],
      "execution_count": 1,
      "metadata": {
        "jupyter": {
          "source_hidden": false,
          "outputs_hidden": false
        },
        "nteract": {
          "transient": {
            "deleting": false
          }
        },
        "gather": {
          "logged": 1686932813309
        }
      }
    },
    {
      "cell_type": "code",
      "source": [
        "API_KEY = os.getenv(\"OPENAI_API_KEY\")\r\n",
        "assert API_KEY, \"ERROR: Azure OpenAI Key is missing\"\r\n",
        "openai.api_key = API_KEY\r\n",
        "\r\n",
        "RESOURCE_ENDPOINT = os.getenv(\"OPENAI_API_BASE\",\"\").strip()\r\n",
        "assert RESOURCE_ENDPOINT, \"ERROR: Azure OpenAI Endpoint is missing\"\r\n",
        "assert \"openai.azure.com\" in RESOURCE_ENDPOINT.lower(), \"ERROR: Azure OpenAI Endpoint should be in the form: \\n\\n\\t<your unique endpoint identifier>.openai.azure.com\"\r\n",
        "\r\n",
        "openai.api_base = RESOURCE_ENDPOINT\r\n",
        "openai.api_type = \"azure\"\r\n",
        "openai.api_version = \"2023-03-15-preview\"\r\n",
        "\r\n",
        "chat_model=os.getenv(\"CHAT_MODEL_NAME\")\r\n",
        "davinci_model=os.getenv(\"TEXT_DAVINCI_MODEL_NAME\")\r\n",
        "curie_model=os.getenv(\"TEXT_CURIE_MODEL_NAME\")\r\n",
        "babbage_model=os.getenv(\"TEXT_BABBAGE_MODEL_NAME\")\r\n",
        "ada_model=os.getenv(\"TEXT_ADA_MODEL_NAME\")"
      ],
      "outputs": [],
      "execution_count": 12,
      "metadata": {
        "jupyter": {
          "source_hidden": false,
          "outputs_hidden": false
        },
        "nteract": {
          "transient": {
            "deleting": false
          }
        },
        "gather": {
          "logged": 1686933122347
        }
      }
    },
    {
      "cell_type": "markdown",
      "source": [
        "#### Helper Function\r\n",
        "Throughout this course, we will use OpenAI's `gpt-3.5-turbo` model and the [chat completions endpoint](https://platform.openai.com/docs/guides/chat). \r\n",
        "\r\n",
        "This helper function will make it easier to use prompts and look at the generated outputs.\r\n",
        "\r\n",
        "**get_completion** helps create openAI response using text completion model of your choice.\r\n",
        "\r\n",
        "**get_chat_completion** helps create openAI response using chat model of your choice.\r\n",
        "\r\n",
        "**get_completion_from_messages** helps create openAI response using chat model of your choice, enabling chat history.\r\n"
      ],
      "metadata": {
        "nteract": {
          "transient": {
            "deleting": false
          }
        }
      }
    },
    {
      "cell_type": "code",
      "source": [
        "def get_completion(prompt, model=\"text-davinci-003\"):\r\n",
        "    response = openai.Completion.create(\r\n",
        "        engine=model,\r\n",
        "        prompt=prompt,\r\n",
        "        temperature=0, # this is the degree of randomness of the model's output\r\n",
        "        max_tokens = 500,\r\n",
        "        top_p = 1.0,\r\n",
        "    )\r\n",
        "    return response.choices[0].text\r\n"
      ],
      "outputs": [],
      "execution_count": 23,
      "metadata": {
        "jupyter": {
          "source_hidden": false,
          "outputs_hidden": false
        },
        "nteract": {
          "transient": {
            "deleting": false
          }
        },
        "gather": {
          "logged": 1686938556281
        }
      }
    },
    {
      "cell_type": "code",
      "source": [
        "def get_chat_completion(prompt, model=\"chat\"):\r\n",
        "    messages = [{\"role\": \"user\", \"content\": prompt}]\r\n",
        "    response = openai.ChatCompletion.create(\r\n",
        "        engine=model,\r\n",
        "        messages=messages,\r\n",
        "        temperature=0, # this is the degree of randomness of the model's output\r\n",
        "        max_tokens = 200,\r\n",
        "        top_p = 1.0\r\n",
        "    )\r\n",
        "    return response.choices[0].message[\"content\"]"
      ],
      "outputs": [],
      "execution_count": 27,
      "metadata": {
        "jupyter": {
          "source_hidden": false,
          "outputs_hidden": false
        },
        "nteract": {
          "transient": {
            "deleting": false
          }
        },
        "gather": {
          "logged": 1686938673045
        }
      }
    },
    {
      "cell_type": "code",
      "source": [
        "def get_completion_from_messages(messages, model=\"chat\", temperature=0):\r\n",
        "    response = openai.ChatCompletion.create(\r\n",
        "        engine=model,\r\n",
        "        messages=messages,\r\n",
        "        temperature=temperature # this is the degree of randomness of the model's output\r\n",
        "    )\r\n",
        "\r\n",
        "    return response.choices[0].message[\"content\"]\r\n",
        "\r\n"
      ],
      "outputs": [],
      "execution_count": 22,
      "metadata": {
        "jupyter": {
          "source_hidden": false,
          "outputs_hidden": false
        },
        "nteract": {
          "transient": {
            "deleting": false
          }
        },
        "gather": {
          "logged": 1686938550664
        }
      }
    },
    {
      "cell_type": "markdown",
      "source": [
        "#### Try out helper functions"
      ],
      "metadata": {
        "nteract": {
          "transient": {
            "deleting": false
          }
        }
      }
    },
    {
      "cell_type": "code",
      "source": [
        "messages =  f\"\"\"\r\n",
        "tell me a joke.\r\n",
        "\"\"\"\r\n",
        "response = get_completion(messages)\r\n",
        "print(response)"
      ],
      "outputs": [],
      "execution_count": null,
      "metadata": {
        "jupyter": {
          "source_hidden": false,
          "outputs_hidden": false
        },
        "nteract": {
          "transient": {
            "deleting": false
          }
        },
        "gather": {
          "logged": 1686938472185
        }
      }
    },
    {
      "cell_type": "code",
      "source": [
        "messages =  f\"\"\"\r\n",
        "tell me a joke.\r\n",
        "\"\"\"\r\n",
        "response = get_chat_completion(messages)\r\n",
        "print(response)"
      ],
      "outputs": [],
      "execution_count": null,
      "metadata": {
        "jupyter": {
          "source_hidden": false,
          "outputs_hidden": false
        },
        "nteract": {
          "transient": {
            "deleting": false
          }
        },
        "gather": {
          "logged": 1686938676516
        }
      }
    },
    {
      "cell_type": "code",
      "source": [
        "messages =  [      \r\n",
        "    {'role':'user', 'content':'tell me a joke'},   \r\n",
        "    {'role':'assistant', 'content':'Why did the chicken cross the road'},   \r\n",
        "    {'role':'user', 'content':'I don\\'t know'}\r\n",
        "]\r\n",
        "response = get_completion_from_messages(messages, temperature=1)\r\n",
        "print(response)"
      ],
      "outputs": [],
      "execution_count": null,
      "metadata": {
        "jupyter": {
          "source_hidden": false,
          "outputs_hidden": false
        },
        "nteract": {
          "transient": {
            "deleting": false
          }
        },
        "gather": {
          "logged": 1686938564787
        }
      }
    },
    {
      "cell_type": "markdown",
      "source": [
        "#### Student Challenges (open questions):\r\n",
        "1. Create completion function for a higher temperature between (0,1).\r\n",
        "2. Create completion function for a lower max_token for shorter response.\r\n",
        "3. Create completion functions with 2 different diversity penalty values between (0,2).\r\n",
        "\r\n",
        "Try out the completion functions you create on the previous case, compare the result you get."
      ],
      "metadata": {
        "nteract": {
          "transient": {
            "deleting": false
          }
        }
      }
    },
    {
      "cell_type": "code",
      "source": [
        "# Try out completion function for a higher temperature between (0,1)"
      ],
      "outputs": [],
      "execution_count": null,
      "metadata": {
        "jupyter": {
          "source_hidden": false,
          "outputs_hidden": false
        },
        "nteract": {
          "transient": {
            "deleting": false
          }
        }
      }
    },
    {
      "cell_type": "code",
      "source": [
        "# Try out completion function for a lower max_token for shorter response"
      ],
      "outputs": [],
      "execution_count": null,
      "metadata": {
        "jupyter": {
          "source_hidden": false,
          "outputs_hidden": false
        },
        "nteract": {
          "transient": {
            "deleting": false
          }
        }
      }
    },
    {
      "cell_type": "code",
      "source": [
        "# Try out completion functions with 2 different diversity penalty values between (0,2)"
      ],
      "outputs": [],
      "execution_count": null,
      "metadata": {
        "jupyter": {
          "source_hidden": false,
          "outputs_hidden": false
        },
        "nteract": {
          "transient": {
            "deleting": false
          }
        }
      }
    },
    {
      "cell_type": "markdown",
      "source": [
        "### 1.2 System Message Engineering\r\n",
        "User can achieve the response from models in their desired tone through adjusting the system message."
      ],
      "metadata": {
        "nteract": {
          "transient": {
            "deleting": false
          }
        }
      }
    },
    {
      "cell_type": "markdown",
      "source": [
        "#### 1.2.1 Change of Tone"
      ],
      "metadata": {
        "nteract": {
          "transient": {
            "deleting": false
          }
        }
      }
    },
    {
      "cell_type": "code",
      "source": [
        "messages =  [      \r\n",
        "    {'role':'user', 'content':'tell me a joke'},   \r\n",
        "    {'role':'assistant', 'content':'Why did the chicken cross the road'},   \r\n",
        "    {'role':'user', 'content':'I don\\'t know'}\r\n",
        "]\r\n",
        "response = get_completion_from_messages(messages, temperature=1)\r\n",
        "print(response)"
      ],
      "outputs": [
        {
          "output_type": "stream",
          "name": "stdout",
          "text": "To get to the other side!\n"
        }
      ],
      "execution_count": 11,
      "metadata": {
        "jupyter": {
          "source_hidden": false,
          "outputs_hidden": false
        },
        "nteract": {
          "transient": {
            "deleting": false
          }
        },
        "gather": {
          "logged": 1685476487849
        }
      }
    },
    {
      "cell_type": "code",
      "source": [
        "messages =  [  \r\n",
        "    {'role':'system', 'content':'You are an assistant that speaks like Shakespeare.'},    \r\n",
        "    {'role':'user', 'content':'tell me a joke'},   \r\n",
        "    {'role':'assistant', 'content':'Why did the chicken cross the road'},   \r\n",
        "    {'role':'user', 'content':'I don\\'t know'}\r\n",
        "]\r\n",
        "response = get_completion_from_messages(messages, temperature=1)\r\n",
        "print(response)"
      ],
      "outputs": [
        {
          "output_type": "stream",
          "name": "stdout",
          "text": "To get to the other side.\n"
        }
      ],
      "execution_count": 89,
      "metadata": {
        "jupyter": {
          "source_hidden": false,
          "outputs_hidden": false
        },
        "nteract": {
          "transient": {
            "deleting": false
          }
        },
        "gather": {
          "logged": 1685059077359
        }
      }
    },
    {
      "cell_type": "markdown",
      "source": [
        "#### Student Challenge (open question):\r\n",
        "Make the assistant tell the joke in the tone of your favorite character by editing the system message.\r\n"
      ],
      "metadata": {
        "nteract": {
          "transient": {
            "deleting": false
          }
        }
      }
    },
    {
      "cell_type": "code",
      "source": [
        "# Make the assistant tell the joke in the tone of your favorite character by editing the system message."
      ],
      "outputs": [],
      "execution_count": 1,
      "metadata": {
        "jupyter": {
          "source_hidden": false,
          "outputs_hidden": false
        },
        "nteract": {
          "transient": {
            "deleting": false
          }
        },
        "gather": {
          "logged": 1686939630607
        }
      }
    },
    {
      "cell_type": "markdown",
      "source": [
        "#### 1.2.2 Remind the Company Name"
      ],
      "metadata": {
        "nteract": {
          "transient": {
            "deleting": false
          }
        }
      }
    },
    {
      "cell_type": "code",
      "source": [
        "messages =  [  \r\n",
        "{'role':'system', 'content':'You are friendly chatbot.'},  \r\n",
        "{'role':'user', 'content':'Hi, my name is Melody'},\r\n",
        "{'role':'assistant', 'content': \"Hi! It's nice to meet you. \\\r\n",
        "Is there anything I can help you with today?\"},  \r\n",
        "{'role':'user', 'content':'Yes, can you remind me, Which company do I work for?'}  ]\r\n",
        "response = get_completion_from_messages(messages, temperature=1)\r\n",
        "print(response)"
      ],
      "outputs": [
        {
          "output_type": "stream",
          "name": "stdout",
          "text": "I'm sorry, but I don't have access to that information as I am just a chatbot. Please let me know if there is anything else I can help you with.\n"
        }
      ],
      "execution_count": 90,
      "metadata": {
        "jupyter": {
          "source_hidden": false,
          "outputs_hidden": false
        },
        "nteract": {
          "transient": {
            "deleting": false
          }
        },
        "gather": {
          "logged": 1685059130793
        }
      }
    },
    {
      "cell_type": "markdown",
      "source": [
        "#### Student Challenge: \r\n",
        "Make the assistant give reliable reminder by giving context in system message."
      ],
      "metadata": {
        "nteract": {
          "transient": {
            "deleting": false
          }
        }
      }
    },
    {
      "cell_type": "code",
      "source": [
        "# Make the assistant give reliable reminder by giving context in system message."
      ],
      "outputs": [],
      "execution_count": 2,
      "metadata": {
        "jupyter": {
          "source_hidden": false,
          "outputs_hidden": false
        },
        "nteract": {
          "transient": {
            "deleting": false
          }
        },
        "gather": {
          "logged": 1686939642577
        }
      }
    },
    {
      "cell_type": "markdown",
      "source": [
        "## 2. Iterative Prompting Principles\r\n",
        "It is general good practice to perform iterative prompting, so the model could generate the most appropriate response given user's specification. \r\n",
        "- **Principle 1: Write clear and specific instructions**\r\n",
        "- **Principle 2: Give the model time to “think”**\r\n",
        "\r\n"
      ],
      "metadata": {
        "nteract": {
          "transient": {
            "deleting": false
          }
        }
      }
    },
    {
      "cell_type": "markdown",
      "source": [
        "### 2.1 Write clear and specific instructions"
      ],
      "metadata": {
        "nteract": {
          "transient": {
            "deleting": false
          }
        }
      }
    },
    {
      "cell_type": "markdown",
      "source": [
        "#### Tactic 1: Delimiters"
      ],
      "metadata": {
        "nteract": {
          "transient": {
            "deleting": false
          }
        }
      }
    },
    {
      "cell_type": "markdown",
      "source": [
        "#### Student Challenge:\r\n",
        "Use delimiters to clearly indicate distinct parts of the input\r\n",
        "\r\n",
        "Delimiters can be anything like: ````, \"\"\", < >, `<tag> </tag>`, `:`"
      ],
      "metadata": {
        "nteract": {
          "transient": {
            "deleting": false
          }
        }
      }
    },
    {
      "cell_type": "code",
      "source": [
        "text = f\"\"\"\r\n",
        "    The 2020 Summer Olympics, officially the Games of the XXXII Olympiad and also known as Tokyo 2020, was an international multi-sport event held from 23 July to 8 August 2021 in Tokyo, Japan, with some preliminary events that began on 21 July 2021. Tokyo was selected as the host city during the 125th IOC Session in Buenos Aires, Argentina, on 7 September 2013.Originally scheduled to take place from 24 July to 9 August 2020, the event was postponed to 2021 on 24 March 2020 due to the global COVID-19 pandemic, the first such instance in the history of the Olympic Games (previous games had been cancelled but not rescheduled). However, the event retained the Tokyo 2020 branding for marketing purposes. It was largely held behind closed doors with no public spectators permitted due to the declaration of a state of emergency in the Greater Tokyo Area in response to the pandemic, the first and only Olympic Games to be held without official spectators. The Games were the most expensive ever, with total spending of over $20 billion.The Games were the fourth Olympic Games to be held in Japan, following the 1964 Summer Olympics (Tokyo), 1972 Winter Olympics (Sapporo), and 1998 Winter Olympics (Nagano). Tokyo became the first city in Asia to hold the Summer Olympic Games twice. The 2020 Games were the second of three consecutive Olympics to be held in East Asia, following the 2018 Winter Olympics in Pyeongchang, South Korea and preceding the 2022 Winter Olympics in Beijing, China. Due to the one-year postponement, Tokyo 2020 was the first and only Olympic Games to have been held in an odd-numbered year and the first Summer Olympics since 1900 to be held in a non-leap year.\\nNew events were introduced in existing sports, including 3x3 basketball, freestyle BMX and mixed gender team events in a number of existing sports, as well as the return of madison cycling for men and an introduction of the same event for women. New IOC policies also allowed the host organizing committee to add new sports to the Olympic program for just one Games. The disciplines added by the Japanese Olympic Committee were baseball and softball, karate, sport climbing, surfing and skateboarding, the last four of which made their Olympic debuts, and the last three of which will remain on the Olympic program.The United States topped the medal count by both total golds (39) and total medals (113), with China finishing second by both respects (38 and 89). Host nation Japan finished third, setting a record for the most gold medals and total medals ever won by their delegation at an Olympic Games with 27 and 58. Great Britain finished fourth, with a total of 22 gold and 64 medals. The Russian delegation competing as the ROC finished fifth with 20 gold medals and third in the overall medal count, with 71 medals. Bermuda, the Philippines and Qatar won their first-ever Olympic gold medals. Burkina Faso, San Marino and Turkmenistan also won their first-ever Olympic medals.'\r\n",
        "\"\"\""
      ],
      "outputs": [],
      "execution_count": 97,
      "metadata": {
        "jupyter": {
          "source_hidden": false,
          "outputs_hidden": false
        },
        "nteract": {
          "transient": {
            "deleting": false
          }
        },
        "gather": {
          "logged": 1685081594233
        }
      }
    },
    {
      "cell_type": "code",
      "source": [
        "# Use delimiters to clearly indicate distinct parts of the input, and ask the model to summarize the text."
      ],
      "outputs": [],
      "execution_count": null,
      "metadata": {
        "jupyter": {
          "source_hidden": false,
          "outputs_hidden": false
        },
        "nteract": {
          "transient": {
            "deleting": false
          }
        }
      }
    },
    {
      "cell_type": "markdown",
      "source": [
        "#### Tactic 2: Summarization: specify word counts, extract information"
      ],
      "metadata": {
        "nteract": {
          "transient": {
            "deleting": false
          }
        }
      }
    },
    {
      "cell_type": "markdown",
      "source": [
        "#### Text to summarize"
      ],
      "metadata": {
        "nteract": {
          "transient": {
            "deleting": false
          }
        }
      }
    },
    {
      "cell_type": "code",
      "source": [
        "game_review = \"\"\"\r\n",
        "The 2020 Summer Olympics, officially the Games of the XXXII Olympiad and also known as Tokyo 2020, \\\r\n",
        "was an international multi-sport event held from 23 July to 8 August 2021 in Tokyo, Japan, \\\r\n",
        "with some preliminary events that began on 21 July 2021. Tokyo was selected as the host city during the 125th IOC Session in Buenos Aires, Argentina, \\\r\n",
        "on 7 September 2013.Originally scheduled to take place from 24 July to 9 August 2020, the event was postponed to 2021 on 24 March 2020 due to the global COVID-19 pandemic, \\\r\n",
        "the first such instance in the history of the Olympic Games (previous games had been cancelled but not rescheduled). \\\r\n",
        "However, the event retained the Tokyo 2020 branding for marketing purposes. \\\r\n",
        "It was largely held behind closed doors with no public spectators permitted due to the declaration of a state of emergency in the Greater Tokyo Area in response to the pandemic, the first and only Olympic Games to be held without official spectators. \\\r\n",
        "The Games were the most expensive ever, with total spending of over $20 billion. \\\r\n",
        "The Games were the fourth Olympic Games to be held in Japan, following the 1964 Summer Olympics (Tokyo), 1972 Winter Olympics (Sapporo), \\\r\n",
        "and 1998 Winter Olympics (Nagano). Tokyo became the first city in Asia to hold the Summer Olympic Games twice. \\\r\n",
        "The 2020 Games were the second of three consecutive Olympics to be held in East Asia, following the 2018 Winter Olympics in Pyeongchang, \\\r\n",
        "South Korea and preceding the 2022 Winter Olympics in Beijing, China. \\\r\n",
        "Due to the one-year postponement, Tokyo 2020 was the first and only Olympic Games to have been held in an odd-numbered year and the first Summer Olympics since 1900 to be held in a non-leap year.\r\n",
        "New events were introduced in existing sports, including 3x3 basketball, \\\r\n",
        "freestyle BMX and mixed gender team events in a number of existing sports, as well as the return of madison cycling for men and an introduction of the same event for women. \\\r\n",
        "New IOC policies also allowed the host organizing committee to add new sports to the Olympic program for just one Games. \\\r\n",
        "The disciplines added by the Japanese Olympic Committee were baseball and softball, karate, \\\r\n",
        "sport climbing, surfing and skateboarding, the last four of which made their Olympic debuts, and the last three of which will remain on the Olympic program. \\\r\n",
        "The United States topped the medal count by both total golds (39) and total medals (113), with China finishing second by both respects (38 and 89). \\\r\n",
        "Host nation Japan finished third, setting a record for the most gold medals and total medals ever won by their delegation at an Olympic Games with 27 and 58. \\\r\n",
        "Great Britain finished fourth, with a total of 22 gold and 64 medals. \\\r\n",
        "The Russian delegation competing as the ROC finished fifth with 20 gold medals and third in the overall medal count, with 71 medals. \\\r\n",
        "Bermuda, the Philippines and Qatar won their first-ever Olympic gold medals. Burkina Faso, San Marino and Turkmenistan also won their first-ever Olympic medals.\r\n",
        "\"\"\""
      ],
      "outputs": [],
      "execution_count": 95,
      "metadata": {
        "jupyter": {
          "source_hidden": false,
          "outputs_hidden": false
        },
        "nteract": {
          "transient": {
            "deleting": false
          }
        },
        "gather": {
          "logged": 1685059771050
        }
      }
    },
    {
      "cell_type": "markdown",
      "source": [
        "#### Student Challenge:\r\n",
        "Summarize with a focus on the special parts of the 2020 Summer Olympics and with a word limit"
      ],
      "metadata": {
        "nteract": {
          "transient": {
            "deleting": false
          }
        }
      }
    },
    {
      "cell_type": "code",
      "source": [
        "# Summarize with a focus on the special parts of the 2020 Summer Olympics and with a word limit"
      ],
      "outputs": [],
      "execution_count": null,
      "metadata": {
        "jupyter": {
          "source_hidden": false,
          "outputs_hidden": false
        },
        "nteract": {
          "transient": {
            "deleting": false
          }
        }
      }
    },
    {
      "cell_type": "markdown",
      "source": [
        "#### Student Challenge:\r\n",
        "Try \"extract\" instead of \"summarize\""
      ],
      "metadata": {
        "nteract": {
          "transient": {
            "deleting": false
          }
        }
      }
    },
    {
      "cell_type": "code",
      "source": [
        "# Try \"extract\" instead of \"summarize\""
      ],
      "outputs": [],
      "execution_count": null,
      "metadata": {
        "jupyter": {
          "source_hidden": false,
          "outputs_hidden": false
        },
        "nteract": {
          "transient": {
            "deleting": false
          }
        }
      }
    },
    {
      "cell_type": "markdown",
      "source": [
        "#### Tactic 3: Inferring: ask for emotions, sentiment, or topics "
      ],
      "metadata": {
        "nteract": {
          "transient": {
            "deleting": false
          }
        }
      }
    },
    {
      "cell_type": "markdown",
      "source": [
        "#### Student Challenge:\r\n",
        "Identify types of emotions and sentiment (positive/negative) of the review below\r\n",
        "\r\n",
        "Format in a JSON object"
      ],
      "metadata": {
        "nteract": {
          "transient": {
            "deleting": false
          }
        }
      }
    },
    {
      "cell_type": "code",
      "source": [
        "review = \"\"\"\r\n",
        "Philip Barker of Inside the Games opined that for many athletes and supporters, \\\r\n",
        "the tone of the ceremony was dignified and appropriate. Hashimoto stated in a press interview that the flame would \"quietly go out\", \\\r\n",
        "which he felt that \"It was an apt description of a dignified and low key Ceremony which conveyed a sense of gratitude that the Games had been able to take place at all.\"\\\r\n",
        "Dominic Patten of Deadline Hollywood argued that the ceremony was an \"uneven mixtape\" of contrasts, \\\r\n",
        "comparing the low-key \"celebration of the culture of the Asian power and brow moping acknowledgement of the pandemic\" to the jubilant Paris segment, \\\r\n",
        "as well as clichÃ©-filled speech of Thomas Bach. Alan Tyres of The Daily Telegraph discussed the IOC updated motto as a sign of things to come. \\\r\n",
        "He stated, \"The updated Olympic motto of 'faster, higher, \\\r\n",
        "stronger â€“ together' fits with how sport is covered and contextualised at this moment in history: \\\r\n",
        "inclusion, diversity, justice and a duty of care to the athletes must be taken into consideration as much as performance.\" \\\r\n",
        "He also discussed the strangeness of the ceremony, as it was performed without a stadium audience.\r\n",
        "\"\"\""
      ],
      "outputs": [],
      "execution_count": null,
      "metadata": {
        "jupyter": {
          "source_hidden": false,
          "outputs_hidden": false
        },
        "nteract": {
          "transient": {
            "deleting": false
          }
        }
      }
    },
    {
      "cell_type": "code",
      "source": [
        "# Identify types of emotions and sentiment (positive/negative) of the review above. Format in a JSON object."
      ],
      "outputs": [],
      "execution_count": null,
      "metadata": {
        "jupyter": {
          "source_hidden": false,
          "outputs_hidden": false
        },
        "nteract": {
          "transient": {
            "deleting": false
          }
        }
      }
    },
    {
      "cell_type": "markdown",
      "source": [
        "#### Student Challenge:\r\n",
        "Infer 3 topics of the story below"
      ],
      "metadata": {
        "nteract": {
          "transient": {
            "deleting": false
          }
        }
      }
    },
    {
      "cell_type": "code",
      "source": [
        "story = \"\"\"\r\n",
        "The 2020 Summer Olympics, officially the Games of the XXXII Olympiad and also known as Tokyo 2020, \\\r\n",
        "was an international multi-sport event held from 23 July to 8 August 2021 in Tokyo, Japan, \\\r\n",
        "with some preliminary events that began on 21 July 2021. Tokyo was selected as the host city during the 125th IOC Session in Buenos Aires, Argentina, \\\r\n",
        "on 7 September 2013.Originally scheduled to take place from 24 July to 9 August 2020, the event was postponed to 2021 on 24 March 2020 due to the global COVID-19 pandemic, \\\r\n",
        "the first such instance in the history of the Olympic Games (previous games had been cancelled but not rescheduled). \\\r\n",
        "However, the event retained the Tokyo 2020 branding for marketing purposes. \\\r\n",
        "It was largely held behind closed doors with no public spectators permitted due to the declaration of a state of emergency in the Greater Tokyo Area in response to the pandemic, the first and only Olympic Games to be held without official spectators. \\\r\n",
        "The Games were the most expensive ever, with total spending of over $20 billion. \\\r\n",
        "The Games were the fourth Olympic Games to be held in Japan, following the 1964 Summer Olympics (Tokyo), 1972 Winter Olympics (Sapporo), \\\r\n",
        "and 1998 Winter Olympics (Nagano). Tokyo became the first city in Asia to hold the Summer Olympic Games twice. \\\r\n",
        "The 2020 Games were the second of three consecutive Olympics to be held in East Asia, following the 2018 Winter Olympics in Pyeongchang, \\\r\n",
        "South Korea and preceding the 2022 Winter Olympics in Beijing, China. \\\r\n",
        "Due to the one-year postponement, Tokyo 2020 was the first and only Olympic Games to have been held in an odd-numbered year and the first Summer Olympics since 1900 to be held in a non-leap year.\r\n",
        "New events were introduced in existing sports, including 3x3 basketball, \\\r\n",
        "freestyle BMX and mixed gender team events in a number of existing sports, as well as the return of madison cycling for men and an introduction of the same event for women. \\\r\n",
        "New IOC policies also allowed the host organizing committee to add new sports to the Olympic program for just one Games. \\\r\n",
        "The disciplines added by the Japanese Olympic Committee were baseball and softball, karate, \\\r\n",
        "sport climbing, surfing and skateboarding, the last four of which made their Olympic debuts, and the last three of which will remain on the Olympic program. \\\r\n",
        "The United States topped the medal count by both total golds (39) and total medals (113), with China finishing second by both respects (38 and 89). \\\r\n",
        "Host nation Japan finished third, setting a record for the most gold medals and total medals ever won by their delegation at an Olympic Games with 27 and 58. \\\r\n",
        "Great Britain finished fourth, with a total of 22 gold and 64 medals. \\\r\n",
        "The Russian delegation competing as the ROC finished fifth with 20 gold medals and third in the overall medal count, with 71 medals. \\\r\n",
        "Bermuda, the Philippines and Qatar won their first-ever Olympic gold medals. Burkina Faso, San Marino and Turkmenistan also won their first-ever Olympic medals.\r\n",
        "\"\"\""
      ],
      "outputs": [],
      "execution_count": null,
      "metadata": {
        "jupyter": {
          "source_hidden": false,
          "outputs_hidden": false
        },
        "nteract": {
          "transient": {
            "deleting": false
          }
        }
      }
    },
    {
      "cell_type": "code",
      "source": [
        "# Infer 3 topics of the story above. "
      ],
      "outputs": [],
      "execution_count": null,
      "metadata": {
        "jupyter": {
          "source_hidden": false,
          "outputs_hidden": false
        },
        "nteract": {
          "transient": {
            "deleting": false
          }
        }
      }
    },
    {
      "cell_type": "markdown",
      "source": [
        "#### Tactic 4: Transforming: specify target language and writing style, and ask for grammar check"
      ],
      "metadata": {
        "nteract": {
          "transient": {
            "deleting": false
          }
        }
      }
    },
    {
      "cell_type": "markdown",
      "source": [
        "#### Student Challenge:\r\n",
        "Universal Translator\r\n",
        "\r\n",
        "People all over the world want to know the Olympic game news in their native language. In this case, the news needs to be translated into different languages. Translate the following news into Korean and English."
      ],
      "metadata": {
        "nteract": {
          "transient": {
            "deleting": false
          }
        }
      }
    },
    {
      "cell_type": "code",
      "source": [
        "news = [\r\n",
        "\"Palestine received a universality invitation from FINA to send two top-ranked swimmers (one per gender) in their respective individual events to the Olympics, \\\r\n",
        "based on the FINA Points System of June 28, 2021.\",\r\n",
        "\"比赛包括两轮：预赛和决赛。预赛成绩最好的8次接力队晋级决赛。必要时使用游泳比赛来打破平局以晋级下一轮。\"]"
      ],
      "outputs": [],
      "execution_count": null,
      "metadata": {
        "jupyter": {
          "source_hidden": false,
          "outputs_hidden": false
        },
        "nteract": {
          "transient": {
            "deleting": false
          }
        }
      }
    },
    {
      "cell_type": "code",
      "source": [],
      "outputs": [],
      "execution_count": null,
      "metadata": {
        "jupyter": {
          "source_hidden": false,
          "outputs_hidden": false
        },
        "nteract": {
          "transient": {
            "deleting": false
          }
        }
      }
    },
    {
      "cell_type": "markdown",
      "source": [
        "#### Student Challenge:\r\n",
        "Tone Transformation\r\n",
        "\r\n",
        "Writing can vary based on the intended audience. ChatGPT can produce different tones. Transform the following message into a business letter."
      ],
      "metadata": {
        "nteract": {
          "transient": {
            "deleting": false
          }
        }
      }
    },
    {
      "cell_type": "code",
      "source": [
        "trans_message = \"David, it's John! OMG, the Olympic game is so crazy\""
      ],
      "outputs": [],
      "execution_count": 103,
      "metadata": {
        "jupyter": {
          "source_hidden": false,
          "outputs_hidden": false
        },
        "nteract": {
          "transient": {
            "deleting": false
          }
        },
        "gather": {
          "logged": 1685082786641
        }
      }
    },
    {
      "cell_type": "markdown",
      "source": [
        "#### Student Challenge:\r\n",
        "Format Conversion\r\n",
        "\r\n",
        "ChatGPT can translate between formats. The prompt should describe the input and output formats. Convert the following JSON data into HTML format."
      ],
      "metadata": {
        "nteract": {
          "transient": {
            "deleting": false
          }
        }
      }
    },
    {
      "cell_type": "code",
      "source": [
        "data_json = { \"The 2020 Summer Olympics Opening Ceremony audience name list\" :[ \r\n",
        "    {\"name\":\"Shyam\", \"email\":\"shyamjaiswal@gmail.com\"},\r\n",
        "    {\"name\":\"Bob\", \"email\":\"bob32@gmail.com\"},\r\n",
        "    {\"name\":\"Jai\", \"email\":\"jai87@gmail.com\"}\r\n",
        "]}"
      ],
      "outputs": [],
      "execution_count": 105,
      "metadata": {
        "jupyter": {
          "source_hidden": false,
          "outputs_hidden": false
        },
        "nteract": {
          "transient": {
            "deleting": false
          }
        },
        "gather": {
          "logged": 1685083768996
        }
      }
    },
    {
      "cell_type": "markdown",
      "source": [
        "#### Student Challenge:\r\n",
        "Spellcheck / Grammar check the following text. \r\n",
        "\r\n",
        "To signal to the LLM that you want it to proofread your text, you instruct the model to 'proofread' or 'proofread and correct'."
      ],
      "metadata": {
        "nteract": {
          "transient": {
            "deleting": false
          }
        }
      }
    },
    {
      "cell_type": "code",
      "source": [
        "check_text = [ \r\n",
        "  \"Alongside the main Emblem blue, the five other colors use in the branding of the 2020 Games is : Kurenai red,   Ai blue,   Sakula pink,   Fuji purple, and   Matsuba green.\",\r\n",
        "  \"The competition have three round: heats, semifinals, and a final.\"\r\n",
        "]"
      ],
      "outputs": [],
      "execution_count": 130,
      "metadata": {
        "jupyter": {
          "source_hidden": false,
          "outputs_hidden": false
        },
        "nteract": {
          "transient": {
            "deleting": false
          }
        },
        "gather": {
          "logged": 1685084954682
        }
      }
    },
    {
      "cell_type": "markdown",
      "source": [
        "#### Tactic 5: Expanding: customize the automated reply"
      ],
      "metadata": {
        "nteract": {
          "transient": {
            "deleting": false
          }
        }
      }
    },
    {
      "cell_type": "markdown",
      "source": [
        "#### Student Challenge:\r\n",
        "Customize the automated reply to the following customer email.\r\n",
        "\r\n",
        "The customer faced an issue while buying the Olympics game ticket."
      ],
      "metadata": {
        "nteract": {
          "transient": {
            "deleting": false
          }
        }
      }
    },
    {
      "cell_type": "code",
      "source": [
        "# given the sentiment from the tactic on \"inferring\",\r\n",
        "# and the original customer message, customize the email\r\n",
        "sentiment = \"negative\"\r\n",
        "\r\n",
        "# review for a ticket transaction\r\n",
        "review = f\"\"\"\r\n",
        "I bought the ticket of \"Men's 100 metre freestyle swimming\" game last week.\\\r\n",
        "The transaction went through successfully. However, I still have not received the ticket.\\\r\n",
        "It has passed over one week.\\\r\n",
        "\"\"\""
      ],
      "outputs": [],
      "execution_count": 6,
      "metadata": {
        "jupyter": {
          "source_hidden": false,
          "outputs_hidden": false
        },
        "nteract": {
          "transient": {
            "deleting": false
          }
        },
        "gather": {
          "logged": 1685463156048
        }
      }
    },
    {
      "cell_type": "markdown",
      "source": [
        "#### Tactic 6: Chatbot: personalize conversations for specific tasks or behaviors\r\n",
        "#### Tactic 1: Specify the steps required to complete a task\r\n",
        "Sometimes you can help the model \"slow down\" and give more robust, detailed answers by specifying the steps it should take."
      ],
      "metadata": {
        "nteract": {
          "transient": {
            "deleting": false
          }
        }
      }
    },
    {
      "cell_type": "markdown",
      "source": [
        "#### Student Challenge:\r\n",
        "Create a conversation with chatbot to know where the 2020 Summer Olympics is held."
      ],
      "metadata": {
        "nteract": {
          "transient": {
            "deleting": false
          }
        }
      }
    },
    {
      "cell_type": "code",
      "source": [
        "### STUDENT CHALLENGE - WRITE CODE HERE ###\r\n"
      ],
      "outputs": [],
      "execution_count": null,
      "metadata": {
        "jupyter": {
          "source_hidden": false,
          "outputs_hidden": false
        },
        "nteract": {
          "transient": {
            "deleting": false
          }
        }
      }
    },
    {
      "cell_type": "markdown",
      "source": [
        "### 2.2 Give the model time to “think” "
      ],
      "metadata": {
        "nteract": {
          "transient": {
            "deleting": false
          }
        }
      }
    },
    {
      "cell_type": "markdown",
      "source": [
        "#### Tactic 1: Specify the steps required to complete a task\r\n",
        "Sometimes you can help the model \"slow down\" and give more robust, detailed answers by specifying the steps it should take.\r\n",
        "\r\n",
        "Let's ask for output in multiple specified formats."
      ],
      "metadata": {
        "nteract": {
          "transient": {
            "deleting": false
          }
        }
      }
    },
    {
      "cell_type": "code",
      "source": [
        "prompt = f\"\"\"\r\n",
        "Your task is to help a journalist summarize information from the article for publication.\r\n",
        "\r\n",
        "Write a title based on the information provided in the context delimited by triple backticks. \r\n",
        "The title should be short, catchy, and reflective of the article's narrative.\r\n",
        "\r\n",
        "After the title, generate five keywords from the context.\r\n",
        "\r\n",
        "After the keywords, include a table to organize the information. \r\n",
        "The table should have two columns. In the first column is the title.\r\n",
        "In the second column include the keywords as a list.\r\n",
        "\r\n",
        "Give the table the title 'Article Publishing Information'.\r\n",
        "\r\n",
        "Format everything as HTML that can be used in a website.\r\n",
        "Place the title in a <div> element.\r\n",
        "\r\n",
        "Context: ```{text}\r\n",
        "\r\n",
        "\"\"\" \r\n",
        "get_completion(prompt)"
      ],
      "outputs": [],
      "execution_count": null,
      "metadata": {
        "jupyter": {
          "source_hidden": false,
          "outputs_hidden": false
        },
        "nteract": {
          "transient": {
            "deleting": false
          }
        },
        "gather": {
          "logged": 1685051679218
        }
      }
    },
    {
      "cell_type": "markdown",
      "source": [
        "#### Tactic 2: Instruct the model to work out its own solution\r\n",
        "\r\n",
        "There are two main methods we will demonstrate in this section to get the model to work through a problem instead of rushing to a conclusion, chain-of-thought and chaining. The strategies can lead to increased accuracy, detail, and the ability to work through complex challenges.\r\n",
        "\r\n",
        "\r\n",
        "2.1 - Chain-of-thought prompting\r\n",
        "- Ask the model to reason\r\n",
        "- One-shot example\r\n",
        "- Chatbot reasoning\r\n",
        "\r\n",
        "2.2 - Chaining\r\n",
        "\r\n",
        "Let's continue working with the Olympics dataset."
      ],
      "metadata": {
        "nteract": {
          "transient": {
            "deleting": false
          }
        }
      }
    },
    {
      "cell_type": "markdown",
      "source": [
        "#### 2.2.1 Chain-of-Thought Prompting\r\n",
        "\r\n",
        "Let's do a bit of math. GPT models occasionally don't do super well on solving direct math problems, so let's walk GPT through the problem.\r\n",
        "\r\n",
        "Let's break down tasks into smaller pieces.\r\n",
        "\r\n",
        "Read more about methods and whitepaper research here: https://github.com/openai/openai-cookbook/blob/main/techniques_to_improve_reliability.md\r\n",
        "\r\n",
        "**Tactic 1**: You can start by specifically asking the model to simply think step-by-step."
      ],
      "metadata": {
        "nteract": {
          "transient": {
            "deleting": false
          }
        }
      }
    },
    {
      "cell_type": "code",
      "source": [
        "\r\n",
        "text = f\"\"\"\r\n",
        "    The 2020 Summer Olympics, officially the Games of the XXXII Olympiad and also known as Tokyo 2020, was an international multi-sport event held from 23 July to 8 August 2021 in Tokyo, Japan, with some preliminary events that began on 21 July 2021. Tokyo was selected as the host city during the 125th IOC Session in Buenos Aires, Argentina, on 7 September 2013.Originally scheduled to take place from 24 July to 9 August 2020, the event was postponed to 2021 on 24 March 2020 due to the global COVID-19 pandemic, the first such instance in the history of the Olympic Games (previous games had been cancelled but not rescheduled). However, the event retained the Tokyo 2020 branding for marketing purposes. It was largely held behind closed doors with no public spectators permitted due to the declaration of a state of emergency in the Greater Tokyo Area in response to the pandemic, the first and only Olympic Games to be held without official spectators. The Games were the most expensive ever, with total spending of over $20 billion.The Games were the fourth Olympic Games to be held in Japan, following the 1964 Summer Olympics (Tokyo), 1972 Winter Olympics (Sapporo), and 1998 Winter Olympics (Nagano). Tokyo became the first city in Asia to hold the Summer Olympic Games twice. The 2020 Games were the second of three consecutive Olympics to be held in East Asia, following the 2018 Winter Olympics in Pyeongchang, South Korea and preceding the 2022 Winter Olympics in Beijing, China. Due to the one-year postponement, Tokyo 2020 was the first and only Olympic Games to have been held in an odd-numbered year and the first Summer Olympics since 1900 to be held in a non-leap year.\\nNew events were introduced in existing sports, including 3x3 basketball, freestyle BMX and mixed gender team events in a number of existing sports, as well as the return of madison cycling for men and an introduction of the same event for women. New IOC policies also allowed the host organizing committee to add new sports to the Olympic program for just one Games. The disciplines added by the Japanese Olympic Committee were baseball and softball, karate, sport climbing, surfing and skateboarding, the last four of which made their Olympic debuts, and the last three of which will remain on the Olympic program.The United States topped the medal count by both total golds (39) and total medals (113), with China finishing second by both respects (38 and 89). Host nation Japan finished third, setting a record for the most gold medals and total medals ever won by their delegation at an Olympic Games with 27 and 58. Great Britain finished fourth, with a total of 22 gold and 64 medals. The Russian delegation competing as the ROC finished fifth with 20 gold medals and third in the overall medal count, with 71 medals. Bermuda, the Philippines and Qatar won their first-ever Olympic gold medals. Burkina Faso, San Marino and Turkmenistan also won their first-ever Olympic medals.'\r\n",
        "\"\"\"\r\n",
        "\r\n",
        "# From Azure documentation\r\n",
        "prompt = \"Who was the most decorated (maximum medals) individual athlete in the Olympic games that were held at Sydney? Take a step-by-step approach in your response, cite sources and give reasoning before sharing final answer in the below format: ANSWER is: <name>\"\r\n",
        "get_chat_completion(prompt)\r\n",
        "\r\n",
        "\r\n",
        "# Another example\r\n",
        "prompt = f\"\"\"\r\n",
        "What is the largest time zone difference is between the top two countries who \r\n",
        "won the most gold medals in the 2020 Tokyo olympics?\r\n",
        "\r\n",
        "Use the context below and think aloud as you solve the problem, step-by-step.\r\n",
        "\r\n",
        "Context: {text}\r\n",
        "\"\"\"\r\n",
        "get_chat_completion(prompt)"
      ],
      "outputs": [
        {
          "output_type": "execute_result",
          "execution_count": 13,
          "data": {
            "text/plain": "'The 2020 Summer Olympics, officially the Games of the XXXII Olympiad and also known as Tokyo 2020, was an international multi-sport event held from 23 July to 8 August 2021 in Tokyo, Japan, with some preliminary events that began on 21 July 2021. Tokyo was selected as the host city during the 125th IOC Session in Buenos Aires, Argentina, on 7 September 2013.Originally scheduled to take place from 24 July to 9 August 2020, the event was postponed to 2021 on 24 March 2020 due to the global COVID-19 pandemic, the first such instance in the history of the Olympic Games (previous games had been cancelled but not rescheduled). However, the event retained the Tokyo 2020 branding for marketing purposes. It was largely held behind closed doors with no public spectators permitted due to the declaration of a state of emergency in the Greater Tokyo Area in response to the pandemic, the first and only Olympic Games to be held without official spectators. The Games were the most expensive ever, with total spending of over $20 billion.The Games were the fourth Olympic Games to be held in Japan, following the 1964 Summer Olympics (Tokyo), 1972 Winter Olympics (Sapporo), and 1998 Winter Olympics (Nagano). Tokyo became the first city in Asia to hold the Summer Olympic Games twice. The 2020 Games were the second of three consecutive Olympics to be held in East Asia, following the 2018 Winter Olympics in Pyeongchang, South Korea and preceding the 2022 Winter Olympics in Beijing, China. Due to the one-year postponement, Tokyo 2020 was the first and only Olympic Games to have been held in an odd-numbered year and the first Summer Olympics since 1900 to be held in a non-leap year.\\nNew events were introduced in existing sports, including 3x3 basketball, freestyle BMX and mixed gender team events in a number of existing sports, as well as the return of madison cycling for men and an introduction of the same event for women. New IOC policies also allowed the host organizing committee to add new sports to the Olympic program for just one Games. The disciplines added by the Japanese Olympic Committee were baseball and softball, karate, sport climbing, surfing and skateboarding, the last four of which made their Olympic debuts, and the last three of which will remain on the Olympic program.The United States topped the medal count by both total golds (39) and total medals (113), with China finishing second by both respects (38 and 89). Host nation Japan finished third, setting a record for the most gold medals and total medals ever won by their delegation at an Olympic Games with 27 and 58. Great Britain finished fourth, with a total of 22 gold and 64 medals. The Russian delegation competing as the ROC finished fifth with 20 gold medals and third in the overall medal count, with 71 medals. Bermuda, the Philippines and Qatar won their first-ever Olympic gold medals. Burkina Faso, San Marino and Turkmenistan also won their first-ever Olympic medals.'"
          },
          "metadata": {}
        }
      ],
      "execution_count": 13,
      "metadata": {
        "jupyter": {
          "source_hidden": false,
          "outputs_hidden": false
        },
        "nteract": {
          "transient": {
            "deleting": false
          }
        },
        "gather": {
          "logged": 1685051978623
        }
      }
    },
    {
      "cell_type": "markdown",
      "source": [
        "**Tactic 2: One-shot example**: another common tactic is to provide one example of a query and an ideal response. The model will learn from that example and apply the patterns to a new question."
      ],
      "metadata": {
        "nteract": {
          "transient": {
            "deleting": false
          }
        }
      }
    },
    {
      "cell_type": "code",
      "source": [
        "# Notice how this response may not be ideal, or the most accurate.\r\n",
        "prompt = f\"\"\"\r\n",
        "    The United States has 113 total medals, 39 of which are gold medals. \r\n",
        "    \r\n",
        "    Great Britain has 64 medals and 22 gold medals. \r\n",
        "    \r\n",
        "    How many more silver and bronze medals does the United States have over Great Britain?\r\n",
        "\"\"\"\r\n",
        "\r\n",
        "get_chat_completion(prompt)"
      ],
      "outputs": [],
      "execution_count": null,
      "metadata": {
        "jupyter": {
          "source_hidden": false,
          "outputs_hidden": false
        },
        "nteract": {
          "transient": {
            "deleting": false
          }
        },
        "gather": {
          "logged": 1685053144682
        }
      }
    },
    {
      "cell_type": "code",
      "source": [
        "# Give the model a one-shot example to solve the question more thoroughly\r\n",
        "\r\n",
        "prompt = f\"\"\"\r\n",
        "Question: The United States has 113 total medals, 39 of which are gold medals. How many medals are silver or bronze?\r\n",
        "Answer:\r\n",
        "[Step 1] - There are three types of medals: gold, silver, and bronze\r\n",
        "[Step 2] - We know the gold and total counts of medals, so the number of silver and bronze medals is the difference between the gold (39) and total (113) counts. \r\n",
        "            113-39=74, so there are 74 silver and bronze medals combined. The answer is 74.\r\n",
        "\r\n",
        "===\r\n",
        "\r\n",
        "Answer the following question using similar steps above.\r\n",
        "\r\n",
        "Question: China has 89 total medals, 38 of which are gold medals. How many silver and bronze medals do they have?\r\n",
        "Answer:\r\n",
        "\"\"\"\r\n",
        "\r\n",
        "get_chat_completion(prompt)"
      ],
      "outputs": [],
      "execution_count": null,
      "metadata": {
        "jupyter": {
          "source_hidden": false,
          "outputs_hidden": false
        },
        "nteract": {
          "transient": {
            "deleting": false
          }
        }
      }
    },
    {
      "cell_type": "markdown",
      "source": [
        "**Tactic 3: Chatbot chain-of-thought reasoning**\r\n",
        "\r\n",
        "You can build in logic using variables so the chatbot can dynamically demonstrate specific ways of thinking about a problem."
      ],
      "metadata": {
        "nteract": {
          "transient": {
            "deleting": false
          }
        }
      }
    },
    {
      "cell_type": "code",
      "source": [
        "# Ask the bot to help you make a decision such as deciding whether to take a job or choose between restaurants.\r\n",
        "# If the model does not immediately respond to your query, wait 1-5 seconds and retype it.\r\n",
        "# If it is not allowing you to give an input, restart the kernel in the navigation bar.\r\n",
        "# Type \"Quit\" to end the session\r\n",
        "\r\n",
        "context = '''\r\n",
        "        You are a decision bot. Your job is to help come to decision by asking a series of questions one at a time and coming to a reasonable decision based on the information provided.\r\n",
        "\r\n",
        "        You will use the following format to help create the series of questions.\r\n",
        "\r\n",
        "        Template: \r\n",
        "        [Problem/Scenario/Question]: [Provide a brief description of the problem, scenario, or question.]\r\n",
        "\r\n",
        "        Chain of thought:\r\n",
        "\r\n",
        "        [Step 1]: Identify the [key element/variable] in the [problem/scenario/question].\r\n",
        "        [Step 2]: Understand the [relationship/connection] between [element A] and [element B].\r\n",
        "        [Step 3]: [Analyze/Evaluate/Consider] the [context/implication] of the [relationship/connection] between [element A] and [element B].\r\n",
        "        [Step 4]: [Conclude/Decide/Determine] the [outcome/solution] based on the [analysis/evaluation/consideration] of [element A], [element B], and their [relationship/connection].\r\n",
        "        [Answer/Conclusion/Recommendation]: [Provide a coherent and logical response based on the chain of thought.]\r\n",
        "\r\n",
        "        You will guide the user though a series of questions one at a time. The first question is broad, and they subsequent questions become more specific. \r\n",
        "\r\n",
        "        Begin by introducing yourself and asking the first question (step 1) only and nothing else, in simple and easy way.\r\n",
        "        '''\r\n",
        "\r\n",
        "conversation=[{\"role\": \"system\", \"content\": context}]\r\n",
        "\r\n",
        "while(True):\r\n",
        "    print(len(conversation))\r\n",
        "    if len(conversation) == 1:\r\n",
        "        response = get_completion_from_messages(conversation)\r\n",
        "        conversation.append({\"role\": \"assistant\", \"content\": response})\r\n",
        "        print(\"\\n\" + response + \"\\n\")\r\n",
        "    \r\n",
        "    user_input = input('Enter your response: ')\r\n",
        "    if user_input.lower() == \"quit\":\r\n",
        "        break \r\n",
        "    conversation.append({\"role\": \"user\", \"content\": user_input})\r\n",
        "    \r\n",
        "    response = get_completion_from_messages(conversation)\r\n",
        "    conversation.append({\"role\": \"assistant\", \"content\": response})\r\n",
        "    print(\"\\n\" + response + \"\\n\")\r\n"
      ],
      "outputs": [],
      "execution_count": null,
      "metadata": {
        "jupyter": {
          "source_hidden": false,
          "outputs_hidden": false
        },
        "nteract": {
          "transient": {
            "deleting": false
          }
        }
      }
    },
    {
      "cell_type": "markdown",
      "source": [
        "#### 2.2.2 - Chaining\r\n",
        "Similar to some earlier examples, you can use model outputs from previous queries into other queries. We will show you later in the Hack how to do this at scale."
      ],
      "metadata": {
        "nteract": {
          "transient": {
            "deleting": false
          }
        }
      }
    },
    {
      "cell_type": "code",
      "source": [
        "# Extract medal counts for each country from the news article\r\n",
        "# Write an article about the summarized information\r\n",
        "# Provide a title for the summary\r\n",
        "\r\n",
        "text = f\"\"\"\r\n",
        "    The 2020 Summer Olympics, officially the Games of the XXXII Olympiad and also known as Tokyo 2020, was an international multi-sport event held from 23 July to 8 August 2021 in Tokyo, Japan, with some preliminary events that began on 21 July 2021. Tokyo was selected as the host city during the 125th IOC Session in Buenos Aires, Argentina, on 7 September 2013.Originally scheduled to take place from 24 July to 9 August 2020, the event was postponed to 2021 on 24 March 2020 due to the global COVID-19 pandemic, the first such instance in the history of the Olympic Games (previous games had been cancelled but not rescheduled). However, the event retained the Tokyo 2020 branding for marketing purposes. It was largely held behind closed doors with no public spectators permitted due to the declaration of a state of emergency in the Greater Tokyo Area in response to the pandemic, the first and only Olympic Games to be held without official spectators. The Games were the most expensive ever, with total spending of over $20 billion.The Games were the fourth Olympic Games to be held in Japan, following the 1964 Summer Olympics (Tokyo), 1972 Winter Olympics (Sapporo), and 1998 Winter Olympics (Nagano). Tokyo became the first city in Asia to hold the Summer Olympic Games twice. The 2020 Games were the second of three consecutive Olympics to be held in East Asia, following the 2018 Winter Olympics in Pyeongchang, South Korea and preceding the 2022 Winter Olympics in Beijing, China. Due to the one-year postponement, Tokyo 2020 was the first and only Olympic Games to have been held in an odd-numbered year and the first Summer Olympics since 1900 to be held in a non-leap year.\\nNew events were introduced in existing sports, including 3x3 basketball, freestyle BMX and mixed gender team events in a number of existing sports, as well as the return of madison cycling for men and an introduction of the same event for women. New IOC policies also allowed the host organizing committee to add new sports to the Olympic program for just one Games. The disciplines added by the Japanese Olympic Committee were baseball and softball, karate, sport climbing, surfing and skateboarding, the last four of which made their Olympic debuts, and the last three of which will remain on the Olympic program.The United States topped the medal count by both total golds (39) and total medals (113), with China finishing second by both respects (38 and 89). Host nation Japan finished third, setting a record for the most gold medals and total medals ever won by their delegation at an Olympic Games with 27 and 58. Great Britain finished fourth, with a total of 22 gold and 64 medals. The Russian delegation competing as the ROC finished fifth with 20 gold medals and third in the overall medal count, with 71 medals. Bermuda, the Philippines and Qatar won their first-ever Olympic gold medals. Burkina Faso, San Marino and Turkmenistan also won their first-ever Olympic medals.'\r\n",
        "\"\"\"\r\n",
        "\r\n",
        "prompt = f\"\"\"\r\n",
        "    Based on the context below, write a JSON object that contains the number of gold and total medals for each country.\r\n",
        "    Context: {text}\r\n",
        "\"\"\"\r\n",
        "num_medals_dict = get_chat_completion(prompt)\r\n",
        "\r\n",
        "prompt = f\"\"\"\r\n",
        "    Write a brief article about the winners and losers of the Olympics based on medal count:\r\n",
        "    {num_medals_dict}\r\n",
        "\"\"\"\r\n",
        "summary = get_chat_completion(prompt)\r\n",
        "print(summary)\r\n",
        "\r\n",
        "prompt = f\"\"\"\r\n",
        "    Give the summary a title in 5 words:\r\n",
        "    {summary}\r\n",
        "\"\"\"\r\n",
        "title = get_chat_completion(prompt)\r\n",
        "print(title)"
      ],
      "outputs": [],
      "execution_count": null,
      "metadata": {
        "jupyter": {
          "source_hidden": false,
          "outputs_hidden": false
        },
        "nteract": {
          "transient": {
            "deleting": false
          }
        },
        "gather": {
          "logged": 1685051679330
        }
      }
    },
    {
      "cell_type": "markdown",
      "source": [
        "#### **Student challenge** (Chaining): \r\n",
        "\r\n",
        "Your job is now to write code that will determine the country that won the most silver and bronze medals combined.\r\n",
        "\r\n",
        "We can see that the model performs poorly on answering the question directly."
      ],
      "metadata": {
        "nteract": {
          "transient": {
            "deleting": false
          }
        }
      }
    },
    {
      "cell_type": "code",
      "source": [
        "prompt = f\"\"\"\r\n",
        "    Based on the context, which country had the most silver and bronze medals?\r\n",
        "    Context: {text}\r\n",
        "\"\"\"\r\n",
        "\r\n",
        "get_chat_completion(prompt)"
      ],
      "outputs": [],
      "execution_count": null,
      "metadata": {
        "jupyter": {
          "source_hidden": false,
          "outputs_hidden": false
        },
        "nteract": {
          "transient": {
            "deleting": false
          }
        },
        "gather": {
          "logged": 1685053948700
        }
      }
    },
    {
      "cell_type": "markdown",
      "source": [
        "Write prompts in the cell below that will help the model answer the question by breaking down the tasks into different steps.\r\n",
        "\r\n",
        "You should be able to get the model to answer the question in 2-3 steps."
      ],
      "metadata": {
        "nteract": {
          "transient": {
            "deleting": false
          }
        }
      }
    },
    {
      "cell_type": "code",
      "source": [
        "### STUDENT CHALLENGE - WRITE CODE HERE ###\r\n"
      ],
      "outputs": [],
      "execution_count": null,
      "metadata": {
        "jupyter": {
          "source_hidden": false,
          "outputs_hidden": false
        },
        "nteract": {
          "transient": {
            "deleting": false
          }
        }
      }
    },
    {
      "cell_type": "markdown",
      "source": [
        "## Success Criteria\r\n",
        "To complete this challenge successfully:\r\n",
        "- Demonstrate understanding of types of tasks OpenAI models are capable of\r\n",
        "- Demonstrate understanding of different hyperparameters in OpneAI models\r\n",
        "- Demonstrate understanding of different using scenarios of prompt engineering techniques\r\n",
        "- Be able to perform iterative prompting practice in exercise\r\n",
        "- Make all the code cells run successfully"
      ],
      "metadata": {
        "nteract": {
          "transient": {
            "deleting": false
          }
        }
      }
    },
    {
      "cell_type": "markdown",
      "source": [
        "## Additional Resources\r\n",
        "What we've covered so far are a few of a set of evolving prompt engineering practices. If you'd like to further explore prompt engineering practices, check out the following resources we've collected:\r\n",
        "\r\n",
        "* EXAMPLE RESOURCE"
      ],
      "metadata": {
        "nteract": {
          "transient": {
            "deleting": false
          }
        }
      }
    },
    {
      "cell_type": "markdown",
      "source": [
        "## "
      ],
      "metadata": {
        "nteract": {
          "transient": {
            "deleting": false
          }
        }
      }
    }
  ],
  "metadata": {
    "kernelspec": {
      "name": "python38-azureml",
      "language": "python",
      "display_name": "Python 3.8 - AzureML"
    },
    "language_info": {
      "name": "python",
      "version": "3.8.5",
      "mimetype": "text/x-python",
      "codemirror_mode": {
        "name": "ipython",
        "version": 3
      },
      "pygments_lexer": "ipython3",
      "nbconvert_exporter": "python",
      "file_extension": ".py"
    },
    "microsoft": {
      "ms_spell_check": {
        "ms_spell_check_language": "en"
      },
      "host": {
        "AzureML": {
          "notebookHasBeenCompleted": true
        }
      }
    },
    "nteract": {
      "version": "nteract-front-end@1.0.0"
    },
    "kernel_info": {
      "name": "python38-azureml"
    }
  },
  "nbformat": 4,
  "nbformat_minor": 2
}