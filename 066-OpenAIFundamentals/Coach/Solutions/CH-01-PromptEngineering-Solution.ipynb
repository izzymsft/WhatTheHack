{
  "cells": [
    {
      "cell_type": "markdown",
      "source": [
        "# Challenge 01 - Prompt Engineering"
      ],
      "metadata": {
        "nteract": {
          "transient": {
            "deleting": false
          }
        }
      }
    },
    {
      "cell_type": "markdown",
      "source": [
        "Quick tip! To view the Table of Contents for this Notebook in VS Code, in the \"Explorer\" tab, expand the \"Outline\" section. If using Azure AI Machine Learning Studio, click the hamburger icon in the top left > View > Table of Contents."
      ],
      "metadata": {
        "nteract": {
          "transient": {
            "deleting": false
          }
        }
      }
    },
    {
      "cell_type": "markdown",
      "source": [
        "## 1. Parameter Experimentation\n",
        "We specify the hyperparameters for the Azure OpenAI models within the helper functions. User can tune the parameters according to different needs.\n",
        "\n",
        "\n",
        "###### **Temperature**\n",
        "Temperature ranges from 0 to 1.\n",
        "Here is a quick breakdown of how it works:\n",
        "- Low temperature (0 to 0.3): More focused, coherent, and conservative outputs.\n",
        "- Medium temperature (0.3 to 0.7): Balanced creativity and coherence.\n",
        "- High temperature (0.7 to 1): Highly creative and diverse, but potentially less coherent.\n",
        "\n",
        "\n",
        "###### **Max_tokens**\n",
        "Max tokens determine the maximum length of the generated text. By setting a limit, you can control how much the AI says, making sure it doesn't give too long of an answer.\n",
        "\n",
        "###### **Top_p**\n",
        "Sets the probability mass cutoff for token sampling, affecting the breadth of options the AI considers. \n",
        "Higher values lead to more randomness, while lower values result in more focused outputs.\n",
        "\n",
        "###### **Diversity_penalty**\n",
        "Diversity_penalty makes sure that the text that is generated is varied by giving a penalty to tokens that have already been used in the response.\n",
        "\n",
        "It ranges from 0 to 2, with higher values resulting in more diverse output.\n",
        "- Low diversity_penalty (0): No penalty applied; may have repetitive phrases.\n",
        "- Medium diversity_penalty (1): Balanced diversity and coherence.\n",
        "- High diversity_penalty (2): Maximum diversity, may affect coherence.\n",
        "\n",
        "\n"
      ],
      "metadata": {
        "nteract": {
          "transient": {
            "deleting": false
          }
        }
      }
    },
    {
      "cell_type": "markdown",
      "source": [
        "### 1.1 Let's get implementing!\n",
        "\n",
        "Let's first set up the Challenge. Load the API key and relevant Python libraries."
      ],
      "metadata": {
        "nteract": {
          "transient": {
            "deleting": false
          }
        }
      }
    },
    {
      "cell_type": "code",
      "source": [
        "!pip install --upgrade openai"
      ],
      "outputs": [],
      "execution_count": null,
      "metadata": {
        "jupyter": {
          "source_hidden": false,
          "outputs_hidden": false
        },
        "nteract": {
          "transient": {
            "deleting": false
          }
        },
        "gather": {
          "logged": 1684951747223
        }
      }
    },
    {
      "cell_type": "code",
      "source": [
        "!pip show openai"
      ],
      "outputs": [],
      "execution_count": null,
      "metadata": {
        "jupyter": {
          "source_hidden": false,
          "outputs_hidden": false
        },
        "nteract": {
          "transient": {
            "deleting": false
          }
        }
      }
    },
    {
      "cell_type": "code",
      "source": [
        "!pip install python-dotenv"
      ],
      "outputs": [],
      "execution_count": null,
      "metadata": {
        "jupyter": {
          "source_hidden": false,
          "outputs_hidden": false
        },
        "nteract": {
          "transient": {
            "deleting": false
          }
        },
        "gather": {
          "logged": 1684938149359
        }
      }
    },
    {
      "cell_type": "markdown",
      "source": [
        "#### Create the environment file \".env\""
      ],
      "metadata": {
        "nteract": {
          "transient": {
            "deleting": false
          }
        }
      }
    },
    {
      "cell_type": "code",
      "source": [
        "# set up an environment\n",
        "\n",
        "'''\n",
        "OPENAI_API_KEY=a34fa59f7e2140929062a3784b3094f4\n",
        "OPENAI_API_BASE=https://aoai00.openai.azure.com/\n",
        "DOCUMENT_MODEL_NAME=ada-search-doc\n",
        "QUERY_MODEL_NAME=ada-search-doc\n",
        "TEXT_DAVINCI_MODEL_NAME=text-davinci-003\n",
        "TEXT_BABBAGE_MODEL_NAME=text-babbage-001\n",
        "TEXT_CURIE_MODEL_NAME=text-curie-001\n",
        "TEXT_ADA_MODEL_NAME=text-ada-001\n",
        "CHAT_MODEL_NAME=gpt35\n",
        "'''"
      ],
      "outputs": [],
      "execution_count": null,
      "metadata": {
        "jupyter": {
          "source_hidden": false,
          "outputs_hidden": true
        },
        "nteract": {
          "transient": {
            "deleting": false
          }
        },
        "gather": {
          "logged": 1685051572271
        }
      }
    },
    {
      "cell_type": "markdown",
      "source": [
        "####  Set up Azure OpenAI Environment"
      ],
      "metadata": {
        "nteract": {
          "transient": {
            "deleting": false
          }
        }
      }
    },
    {
      "cell_type": "code",
      "source": [
        "import openai\n",
        "import os\n",
        "import json\n",
        "from dotenv import load_dotenv, find_dotenv\n",
        "load_dotenv(find_dotenv())\n",
        "\n"
      ],
      "outputs": [],
      "execution_count": null,
      "metadata": {
        "jupyter": {
          "source_hidden": false,
          "outputs_hidden": false
        },
        "nteract": {
          "transient": {
            "deleting": false
          }
        },
        "gather": {
          "logged": 1693197663859
        }
      }
    },
    {
      "cell_type": "code",
      "source": [
        "API_KEY = os.getenv(\"OPENAI_API_KEY\")\n",
        "assert API_KEY, \"ERROR: Azure OpenAI Key is missing\"\n",
        "openai.api_key = API_KEY\n",
        "\n",
        "RESOURCE_ENDPOINT = os.getenv(\"OPENAI_API_BASE\",\"\").strip()\n",
        "assert RESOURCE_ENDPOINT, \"ERROR: Azure OpenAI Endpoint is missing\"\n",
        "assert \"openai.azure.com\" in RESOURCE_ENDPOINT.lower(), \"ERROR: Azure OpenAI Endpoint should be in the form: \\n\\n\\t<your unique endpoint identifier>.openai.azure.com\"\n",
        "\n",
        "openai.api_base = RESOURCE_ENDPOINT\n",
        "openai.api_type = \"azure\"\n",
        "openai.api_version = \"2023-03-15-preview\"\n",
        "\n",
        "chat_model=os.getenv(\"CHAT_MODEL_NAME\")\n",
        "davinci_model=os.getenv(\"TEXT_DAVINCI_MODEL_NAME\")\n",
        "curie_model=os.getenv(\"TEXT_CURIE_MODEL_NAME\")\n",
        "babbage_model=os.getenv(\"TEXT_BABBAGE_MODEL_NAME\")\n",
        "ada_model=os.getenv(\"TEXT_ADA_MODEL_NAME\")\n",
        "\n"
      ],
      "outputs": [],
      "execution_count": null,
      "metadata": {
        "jupyter": {
          "source_hidden": false,
          "outputs_hidden": false
        },
        "nteract": {
          "transient": {
            "deleting": false
          }
        },
        "gather": {
          "logged": 1693197668098
        }
      }
    },
    {
      "cell_type": "markdown",
      "source": [
        "#### Helper Function\n",
        "Throughout this course, we will use OpenAI's `gpt-3.5-turbo` model and the [chat completions endpoint](https://platform.openai.com/docs/guides/chat). \n",
        "\n",
        "This helper function will make it easier to use prompts and look at the generated outputs.\n",
        "\n",
        "TO DO: INCLUDE INFORMATION ABOUT THE DIFFERENT FUNCTIONS"
      ],
      "metadata": {
        "nteract": {
          "transient": {
            "deleting": false
          }
        }
      }
    },
    {
      "cell_type": "code",
      "source": [
        "def get_completion(prompt, model=\"text-davinci-003\"):\n",
        "    response = openai.Completion.create(\n",
        "        engine=model,\n",
        "        prompt=prompt,\n",
        "        temperature=0, # this is the degree of randomness of the model's output\n",
        "        max_tokens = 500,\n",
        "        top_p = 1.0,\n",
        "    )\n",
        "    return response.choices[0].text\n"
      ],
      "outputs": [],
      "execution_count": null,
      "metadata": {
        "jupyter": {
          "source_hidden": false,
          "outputs_hidden": false
        },
        "nteract": {
          "transient": {
            "deleting": false
          }
        },
        "gather": {
          "logged": 1693197671401
        }
      }
    },
    {
      "cell_type": "code",
      "source": [
        "def get_chat_completion(prompt, model=\"chat\"):\n",
        "    messages = [{\"role\": \"user\", \"content\": prompt}]\n",
        "    response = openai.ChatCompletion.create(\n",
        "        model=model,\n",
        "        messages=messages,\n",
        "        temperature=0, # this is the degree of randomness of the model's output\n",
        "        max_tokens = 200,\n",
        "        top_p = 1.0,\n",
        "    )\n",
        "    return response.choices[0].message[\"content\"]"
      ],
      "outputs": [],
      "execution_count": null,
      "metadata": {
        "jupyter": {
          "source_hidden": false,
          "outputs_hidden": false
        },
        "nteract": {
          "transient": {
            "deleting": false
          }
        },
        "gather": {
          "logged": 1693197672193
        }
      }
    },
    {
      "cell_type": "code",
      "source": [
        "def get_completion_from_messages(messages, model=\"chat\", temperature=0):\n",
        "    response = openai.ChatCompletion.create(\n",
        "        engine=model,\n",
        "        messages=messages,\n",
        "        temperature=temperature, # this is the degree of randomness of the model's output\n",
        "    )\n",
        "    #print(str(response.choices[0].message))\n",
        "    return response.choices[0].message[\"content\"]\n",
        "\n"
      ],
      "outputs": [],
      "execution_count": null,
      "metadata": {
        "jupyter": {
          "source_hidden": false,
          "outputs_hidden": false
        },
        "nteract": {
          "transient": {
            "deleting": false
          }
        },
        "gather": {
          "logged": 1693197672747
        }
      }
    },
    {
      "cell_type": "code",
      "source": [
        "#### Student Challenges (open questions):\n",
        "1. Create completion function for a higher temperature between (0,1).\n",
        "2. Create completion function for a lower max_token for shorter response.\n",
        "3. Create completion functions with 2 different diversity penalty values between (0,2)."
      ],
      "outputs": [],
      "execution_count": null,
      "metadata": {
        "jupyter": {
          "source_hidden": true,
          "outputs_hidden": false
        },
        "nteract": {
          "transient": {
            "deleting": false
          }
        }
      }
    },
    {
      "cell_type": "markdown",
      "source": [
        "### 1.2 System Message Engineering\n",
        "User can achieve the response from models in their desired tone through adjusting the system message."
      ],
      "metadata": {
        "nteract": {
          "transient": {
            "deleting": false
          }
        }
      }
    },
    {
      "cell_type": "markdown",
      "source": [
        "#### 1.2.1 Change of Tone"
      ],
      "metadata": {
        "nteract": {
          "transient": {
            "deleting": false
          }
        }
      }
    },
    {
      "cell_type": "code",
      "source": [
        "messages =  [      \n",
        "    {'role':'user', 'content':'tell me a joke'},   \n",
        "    {'role':'assistant', 'content':'Why did the chicken cross the road'},   \n",
        "    {'role':'user', 'content':'I don\\'t know'}\n",
        "]\n",
        "response = get_completion_from_messages(messages, temperature=1)\n",
        "print(response)"
      ],
      "outputs": [],
      "execution_count": null,
      "metadata": {
        "jupyter": {
          "source_hidden": false,
          "outputs_hidden": false
        },
        "nteract": {
          "transient": {
            "deleting": false
          }
        },
        "gather": {
          "logged": 1693197691079
        }
      }
    },
    {
      "cell_type": "markdown",
      "source": [
        "By changing the `content` of the first system message, we can change the model's tone for the conversation."
      ],
      "metadata": {
        "nteract": {
          "transient": {
            "deleting": false
          }
        }
      }
    },
    {
      "cell_type": "code",
      "source": [
        "messages =  [  \n",
        "    {'role':'system', 'content':'You are an assistant that speaks like Shakespeare.'},    \n",
        "    {'role':'user', 'content':'tell me a joke'},   \n",
        "    {'role':'assistant', 'content':'Why did the chicken cross the road'},   \n",
        "    {'role':'user', 'content':'I don\\'t know'}\n",
        "]\n",
        "response = get_completion_from_messages(messages, temperature=1)\n",
        "print(response)"
      ],
      "outputs": [],
      "execution_count": null,
      "metadata": {
        "jupyter": {
          "source_hidden": false,
          "outputs_hidden": false
        },
        "nteract": {
          "transient": {
            "deleting": false
          }
        },
        "gather": {
          "logged": 1693197915371
        }
      }
    },
    {
      "cell_type": "markdown",
      "source": [
        "#### Student Challenge (open question):\n",
        "Make the assistant tell the joke in the tone of your favorite character by editing the system message."
      ],
      "metadata": {
        "nteract": {
          "transient": {
            "deleting": false
          }
        }
      }
    },
    {
      "cell_type": "markdown",
      "source": [
        "#### 1.2.2 Remind the Company Name"
      ],
      "metadata": {
        "nteract": {
          "transient": {
            "deleting": false
          }
        }
      }
    },
    {
      "cell_type": "markdown",
      "source": [
        "GPT has the ability to keep track of information throughout a conversation, as demonstrated below."
      ],
      "metadata": {
        "nteract": {
          "transient": {
            "deleting": false
          }
        }
      }
    },
    {
      "cell_type": "code",
      "source": [
        "messages =  [  \n",
        "{'role':'system', 'content':'You are friendly chatbot.'},  \n",
        "{'role':'user', 'content':'Hi, my name is Melody'},\n",
        "{'role':'assistant', 'content': \"Hi! It's nice to meet you. \\\n",
        "Is there anything I can help you with today?\"},  \n",
        "{'role':'user', 'content':'Yes, can you remind me, Which company do I work for?'}  ]\n",
        "response = get_completion_from_messages(messages, temperature=1)\n",
        "print(response)"
      ],
      "outputs": [],
      "execution_count": null,
      "metadata": {
        "jupyter": {
          "source_hidden": false,
          "outputs_hidden": false
        },
        "nteract": {
          "transient": {
            "deleting": false
          }
        },
        "gather": {
          "logged": 1693198129006
        }
      }
    },
    {
      "cell_type": "markdown",
      "source": [
        "#### Student Challenge: \n",
        "Make the assistant give reliable reminder by giving context in system message."
      ],
      "metadata": {
        "nteract": {
          "transient": {
            "deleting": false
          }
        }
      }
    },
    {
      "cell_type": "code",
      "source": [
        "messages =  [  \n",
        "{'role':'system', 'content':'You are friendly chatbot.Taking to people work for Microsoft.'},\n",
        "{'role':'user', 'content':'Hi, my name is Melody'},\n",
        "{'role':'assistant', 'content': \"Hi! It's nice to meet you. \\\n",
        "Is there anything I can help you with today?\"},\n",
        "{'role':'user', 'content':'Yes, you can remind me, Which company do I work for?'}  ]\n",
        "response = get_completion_from_messages(messages, temperature=1)\n",
        "print(response)"
      ],
      "outputs": [],
      "execution_count": null,
      "metadata": {
        "jupyter": {
          "source_hidden": false,
          "outputs_hidden": false
        },
        "nteract": {
          "transient": {
            "deleting": false
          }
        },
        "gather": {
          "logged": 1693198151612
        }
      }
    },
    {
      "cell_type": "markdown",
      "source": [
        "## 2. Iterative Prompting Principles\n",
        "It is general good practice to perform iterative prompting, so the model could generate the most appropriate response given user's specification. \n",
        "- **Principle 1: Write clear and specific instructions**\n",
        "- **Principle 2: Give the model time to “think”**\n",
        "\n"
      ],
      "metadata": {
        "nteract": {
          "transient": {
            "deleting": false
          }
        }
      }
    },
    {
      "cell_type": "code",
      "source": [
        "\n",
        "text = f\"\"\"\n",
        "The Olympic Games Tokyo 2020 reached a global broadcast audience of 3.05 billion people, according to independent research conducted on behalf of the International Olympic Committee (IOC). Official coverage on Olympic broadcast partners\\' digital platforms alone generated 28 billion video views in total – representing a 139 per cent increase compared with the Olympic Games Rio 2016 and underlining the changing media landscape and Tokyo 2020\\'s designation as the first streaming Games and the most watched Olympic Games ever on digital platforms.Sony and Panasonic partnered with NHK to develop broadcasting standards for 8K resolution television, with a goal to release 8K television sets in time for the 2020 Summer Olympics. In early 2019, Italian broadcaster RAI announced its intention to deploy 8K broadcasting for the Games. NHK broadcast the opening and closing ceremonies, and coverage of selected events in 8K. Telecom company NTT Docomo signed a deal with Finland\\'s Nokia to provide 5G-ready baseband networks in Japan in time for the Games.The Tokyo Olympics were broadcast in the United States by NBCUniversal networks, as part of a US$4.38 billion agreement that began at the 2014 Winter Olympics in Sochi. The United States Olympic & Paralympic Committee asserted that a \"right of abatement\" clause in the contract was triggered by the delay of the Games to 2021, requiring the IOC to \"negotiate in good faith an equitable reduction in the applicable broadcast rights payments\" by NBC, which remains one of IOC\\'s biggest revenue streams. According to NBCUniversal CEO Jeff Shell, the Tokyo games could be the most profitable Olympics in NBC\\'s history. The Tokyo games were NBC\\'s first Olympics broadcast under current president Susan Rosner Rovner.In Europe, this was the first Summer Olympics under the IOC\\'s exclusive pan-European rights deal with Eurosport, which began at the 2018 Winter Olympics and is contracted to run through 2024. The rights for the 2020 Summer Olympics covered almost all of Europe; a pre-existing deal with a marketer excludes Russia. Eurosport planned to sub-license coverage to free-to-air networks in each territory, and other channels owned by Discovery, Inc. subsidiaries. In the United Kingdom, these were set to be the last Games with rights owned primarily by the BBC, although as a condition of a sub-licensing agreement due to carry into the 2022 and 2024 Games, Eurosport holds exclusive pay television rights. In France, these were the last Games whose rights are primarily owned by France Télévisions. Eurosport debuted as pay television rightsholder, after Canal+ elected to sell its pay television rights as a cost-saving measure.In Canada, the 2020 Games were shown on CBC/Radio-Canada platforms, Sportsnet, TSN and TLN. In Australia, they were aired by Seven Network. In the Indian subcontinent, they were aired by Sony Pictures Networks India (SPN).\n",
        "\"\"\"\n",
        "text"
      ],
      "outputs": [],
      "execution_count": null,
      "metadata": {
        "jupyter": {
          "source_hidden": false,
          "outputs_hidden": false
        },
        "nteract": {
          "transient": {
            "deleting": false
          }
        },
        "gather": {
          "logged": 1686117430505
        }
      }
    },
    {
      "cell_type": "markdown",
      "source": [
        "### 2.1 Write clear and specific instructions"
      ],
      "metadata": {
        "nteract": {
          "transient": {
            "deleting": false
          }
        }
      }
    },
    {
      "cell_type": "markdown",
      "source": [
        "#### Tactic 1: Delimiters"
      ],
      "metadata": {
        "nteract": {
          "transient": {
            "deleting": false
          }
        }
      }
    },
    {
      "cell_type": "markdown",
      "source": [
        "#### Student Challenge:\n",
        "Use delimiters to clearly indicate distinct parts of the input\n",
        "\n",
        "Delimiters can be anything like: ````, \"\"\", < >, `<tag> </tag>`, `:`"
      ],
      "metadata": {
        "nteract": {
          "transient": {
            "deleting": false
          }
        }
      }
    },
    {
      "cell_type": "code",
      "source": [
        "text = f\"\"\"\n",
        "    The 2020 Summer Olympics, officially the Games of the XXXII Olympiad and also known as Tokyo 2020, was an international multi-sport event held from 23 July to 8 August 2021 in Tokyo, Japan, with some preliminary events that began on 21 July 2021. Tokyo was selected as the host city during the 125th IOC Session in Buenos Aires, Argentina, on 7 September 2013.Originally scheduled to take place from 24 July to 9 August 2020, the event was postponed to 2021 on 24 March 2020 due to the global COVID-19 pandemic, the first such instance in the history of the Olympic Games (previous games had been cancelled but not rescheduled). However, the event retained the Tokyo 2020 branding for marketing purposes. It was largely held behind closed doors with no public spectators permitted due to the declaration of a state of emergency in the Greater Tokyo Area in response to the pandemic, the first and only Olympic Games to be held without official spectators. The Games were the most expensive ever, with total spending of over $20 billion.The Games were the fourth Olympic Games to be held in Japan, following the 1964 Summer Olympics (Tokyo), 1972 Winter Olympics (Sapporo), and 1998 Winter Olympics (Nagano). Tokyo became the first city in Asia to hold the Summer Olympic Games twice. The 2020 Games were the second of three consecutive Olympics to be held in East Asia, following the 2018 Winter Olympics in Pyeongchang, South Korea and preceding the 2022 Winter Olympics in Beijing, China. Due to the one-year postponement, Tokyo 2020 was the first and only Olympic Games to have been held in an odd-numbered year and the first Summer Olympics since 1900 to be held in a non-leap year.\\nNew events were introduced in existing sports, including 3x3 basketball, freestyle BMX and mixed gender team events in a number of existing sports, as well as the return of madison cycling for men and an introduction of the same event for women. New IOC policies also allowed the host organizing committee to add new sports to the Olympic program for just one Games. The disciplines added by the Japanese Olympic Committee were baseball and softball, karate, sport climbing, surfing and skateboarding, the last four of which made their Olympic debuts, and the last three of which will remain on the Olympic program.The United States topped the medal count by both total golds (39) and total medals (113), with China finishing second by both respects (38 and 89). Host nation Japan finished third, setting a record for the most gold medals and total medals ever won by their delegation at an Olympic Games with 27 and 58. Great Britain finished fourth, with a total of 22 gold and 64 medals. The Russian delegation competing as the ROC finished fifth with 20 gold medals and third in the overall medal count, with 71 medals. Bermuda, the Philippines and Qatar won their first-ever Olympic gold medals. Burkina Faso, San Marino and Turkmenistan also won their first-ever Olympic medals.'\n",
        "\"\"\""
      ],
      "outputs": [],
      "execution_count": null,
      "metadata": {
        "jupyter": {
          "source_hidden": false,
          "outputs_hidden": false
        },
        "nteract": {
          "transient": {
            "deleting": false
          }
        },
        "gather": {
          "logged": 1685081594233
        }
      }
    },
    {
      "cell_type": "code",
      "source": [
        "prompt = f\"\"\"\n",
        "give the text delimited by triple backticks a newspaper title.\n",
        "Text:\n",
        "```{text}```\n",
        "\"\"\"\n",
        "response = get_completion(prompt)\n",
        "\n",
        "print(response)"
      ],
      "outputs": [],
      "execution_count": null,
      "metadata": {
        "jupyter": {
          "source_hidden": false,
          "outputs_hidden": false
        },
        "nteract": {
          "transient": {
            "deleting": false
          }
        },
        "gather": {
          "logged": 1685081597874
        }
      }
    },
    {
      "cell_type": "markdown",
      "source": [
        "#### Tactic 2: Summarization: specify word counts, extract information"
      ],
      "metadata": {
        "nteract": {
          "transient": {
            "deleting": false
          }
        }
      }
    },
    {
      "cell_type": "markdown",
      "source": [
        "#### Text to summarize"
      ],
      "metadata": {
        "nteract": {
          "transient": {
            "deleting": false
          }
        }
      }
    },
    {
      "cell_type": "code",
      "source": [
        "game_review = \"\"\"\n",
        "The 2020 Summer Olympics, officially the Games of the XXXII Olympiad and also known as Tokyo 2020, \\\n",
        "was an international multi-sport event held from 23 July to 8 August 2021 in Tokyo, Japan, \\\n",
        "with some preliminary events that began on 21 July 2021. Tokyo was selected as the host city during the 125th IOC Session in Buenos Aires, Argentina, \\\n",
        "on 7 September 2013.Originally scheduled to take place from 24 July to 9 August 2020, the event was postponed to 2021 on 24 March 2020 due to the global COVID-19 pandemic, \\\n",
        "the first such instance in the history of the Olympic Games (previous games had been cancelled but not rescheduled). \\\n",
        "However, the event retained the Tokyo 2020 branding for marketing purposes. \\\n",
        "It was largely held behind closed doors with no public spectators permitted due to the declaration of a state of emergency in the Greater Tokyo Area in response to the pandemic, the first and only Olympic Games to be held without official spectators. \\\n",
        "The Games were the most expensive ever, with total spending of over $20 billion. \\\n",
        "The Games were the fourth Olympic Games to be held in Japan, following the 1964 Summer Olympics (Tokyo), 1972 Winter Olympics (Sapporo), \\\n",
        "and 1998 Winter Olympics (Nagano). Tokyo became the first city in Asia to hold the Summer Olympic Games twice. \\\n",
        "The 2020 Games were the second of three consecutive Olympics to be held in East Asia, following the 2018 Winter Olympics in Pyeongchang, \\\n",
        "South Korea and preceding the 2022 Winter Olympics in Beijing, China. \\\n",
        "Due to the one-year postponement, Tokyo 2020 was the first and only Olympic Games to have been held in an odd-numbered year and the first Summer Olympics since 1900 to be held in a non-leap year.\n",
        "New events were introduced in existing sports, including 3x3 basketball, \\\n",
        "freestyle BMX and mixed gender team events in a number of existing sports, as well as the return of madison cycling for men and an introduction of the same event for women. \\\n",
        "New IOC policies also allowed the host organizing committee to add new sports to the Olympic program for just one Games. \\\n",
        "The disciplines added by the Japanese Olympic Committee were baseball and softball, karate, \\\n",
        "sport climbing, surfing and skateboarding, the last four of which made their Olympic debuts, and the last three of which will remain on the Olympic program. \\\n",
        "The United States topped the medal count by both total golds (39) and total medals (113), with China finishing second by both respects (38 and 89). \\\n",
        "Host nation Japan finished third, setting a record for the most gold medals and total medals ever won by their delegation at an Olympic Games with 27 and 58. \\\n",
        "Great Britain finished fourth, with a total of 22 gold and 64 medals. \\\n",
        "The Russian delegation competing as the ROC finished fifth with 20 gold medals and third in the overall medal count, with 71 medals. \\\n",
        "Bermuda, the Philippines and Qatar won their first-ever Olympic gold medals. Burkina Faso, San Marino and Turkmenistan also won their first-ever Olympic medals.\n",
        "\"\"\""
      ],
      "outputs": [],
      "execution_count": null,
      "metadata": {
        "jupyter": {
          "source_hidden": false,
          "outputs_hidden": false
        },
        "nteract": {
          "transient": {
            "deleting": false
          }
        },
        "gather": {
          "logged": 1685059771050
        }
      }
    },
    {
      "cell_type": "markdown",
      "source": [
        "#### Student Challenge:\n",
        "Summarize with a focus on the special parts of the 2020 Summer Olympics and with a word limit"
      ],
      "metadata": {
        "nteract": {
          "transient": {
            "deleting": false
          }
        }
      }
    },
    {
      "cell_type": "code",
      "source": [
        "prompt = f\"\"\"\n",
        "Your task is to generate a short summary of the 2020 Summer Olympics report to show how important \\\n",
        "this Olympics event means to Japan. \n",
        "\n",
        "Summarize the review below, delimited by triple \n",
        "backticks, in at most 50 words, and focusing on any aspects that shows the differences of this event. \n",
        "\n",
        "Review: ```{game_review}```\n",
        "\"\"\"\n",
        "\n",
        "response = get_completion(prompt)\n",
        "print(response)"
      ],
      "outputs": [],
      "execution_count": null,
      "metadata": {
        "jupyter": {
          "source_hidden": false,
          "outputs_hidden": false
        },
        "nteract": {
          "transient": {
            "deleting": false
          }
        },
        "gather": {
          "logged": 1685059777851
        }
      }
    },
    {
      "cell_type": "markdown",
      "source": [
        "#### Student Challenge:\n",
        "Try \"extract\" instead of \"summarize\""
      ],
      "metadata": {
        "nteract": {
          "transient": {
            "deleting": false
          }
        }
      }
    },
    {
      "cell_type": "code",
      "source": [
        "prompt = f\"\"\"\n",
        "Your task is to extract relavant information from the 2020 Summer Olympics report to show how important \\\n",
        "this Olympics event means to Japan. \n",
        "\n",
        "From the review below, delimited by triple \n",
        "backticks, extract the information focusing on any aspects that shows the differences of this event. \\\n",
        "Limit to 50 words.\n",
        "\n",
        "Review: ```{game_review}```\n",
        "\"\"\"\n",
        "\n",
        "response = get_completion(prompt)\n",
        "print(response)"
      ],
      "outputs": [],
      "execution_count": null,
      "metadata": {
        "jupyter": {
          "source_hidden": false,
          "outputs_hidden": false
        },
        "nteract": {
          "transient": {
            "deleting": false
          }
        }
      }
    },
    {
      "cell_type": "markdown",
      "source": [
        "#### Tactic 3: Inferring: ask for emotions, sentiment, or topics "
      ],
      "metadata": {
        "nteract": {
          "transient": {
            "deleting": false
          }
        }
      }
    },
    {
      "cell_type": "markdown",
      "source": [
        "#### Student Challenge:\n",
        "Identify types of emotions and sentiment (positive/negative) of the review below\n",
        "\n",
        "Format in a JSON object"
      ],
      "metadata": {
        "nteract": {
          "transient": {
            "deleting": false
          }
        }
      }
    },
    {
      "cell_type": "code",
      "source": [
        "review = \"\"\"\n",
        "Philip Barker of Inside the Games opined that for many athletes and supporters, \\\n",
        "the tone of the ceremony was dignified and appropriate. Hashimoto stated in a press interview that the flame would \"quietly go out\", \\\n",
        "which he felt that \"It was an apt description of a dignified and low key Ceremony which conveyed a sense of gratitude that the Games had been able to take place at all.\"\\\n",
        "Dominic Patten of Deadline Hollywood argued that the ceremony was an \"uneven mixtape\" of contrasts, \\\n",
        "comparing the low-key \"celebration of the culture of the Asian power and brow moping acknowledgement of the pandemic\" to the jubilant Paris segment, \\\n",
        "as well as clichÃ©-filled speech of Thomas Bach. Alan Tyres of The Daily Telegraph discussed the IOC updated motto as a sign of things to come. \\\n",
        "He stated, \"The updated Olympic motto of 'faster, higher, \\\n",
        "stronger â€“ together' fits with how sport is covered and contextualised at this moment in history: \\\n",
        "inclusion, diversity, justice and a duty of care to the athletes must be taken into consideration as much as performance.\" \\\n",
        "He also discussed the strangeness of the ceremony, as it was performed without a stadium audience.\n",
        "\"\"\""
      ],
      "outputs": [],
      "execution_count": null,
      "metadata": {
        "jupyter": {
          "source_hidden": false,
          "outputs_hidden": false
        },
        "nteract": {
          "transient": {
            "deleting": false
          }
        },
        "gather": {
          "logged": 1688517149646
        }
      }
    },
    {
      "cell_type": "code",
      "source": [
        "prompt = f\"\"\"\n",
        "Identify the following items from the review text: \n",
        "- a list of emotions that the writer of the following review is expressing\n",
        "- Sentiment (positive or negative)\n",
        "\n",
        "The review is delimited with triple backticks. \\\n",
        "Format your response as a JSON object with \\\n",
        "\"Emotion\" and \"Sentiment\" as the keys.\n",
        "If the information isn't present, use \"unknown\" \\\n",
        "as the value.\n",
        "Make your response as short as possible.\n",
        "Format the Anger value as a boolean.\n",
        "\n",
        "Review text: '''{review}'''\n",
        "\"\"\"\n",
        "response = get_completion(prompt)\n",
        "print(response)"
      ],
      "outputs": [],
      "execution_count": null,
      "metadata": {
        "jupyter": {
          "source_hidden": false,
          "outputs_hidden": false
        },
        "nteract": {
          "transient": {
            "deleting": false
          }
        },
        "gather": {
          "logged": 1688517170991
        }
      }
    },
    {
      "cell_type": "markdown",
      "source": [
        "#### Student Challenge:\n",
        "Infer 3 topics of the story below"
      ],
      "metadata": {
        "nteract": {
          "transient": {
            "deleting": false
          }
        }
      }
    },
    {
      "cell_type": "code",
      "source": [
        "story = \"\"\"\n",
        "The 2020 Summer Olympics, officially the Games of the XXXII Olympiad and also known as Tokyo 2020, \\\n",
        "was an international multi-sport event held from 23 July to 8 August 2021 in Tokyo, Japan, \\\n",
        "with some preliminary events that began on 21 July 2021. Tokyo was selected as the host city during the 125th IOC Session in Buenos Aires, Argentina, \\\n",
        "on 7 September 2013.Originally scheduled to take place from 24 July to 9 August 2020, the event was postponed to 2021 on 24 March 2020 due to the global COVID-19 pandemic, \\\n",
        "the first such instance in the history of the Olympic Games (previous games had been cancelled but not rescheduled). \\\n",
        "However, the event retained the Tokyo 2020 branding for marketing purposes. \\\n",
        "It was largely held behind closed doors with no public spectators permitted due to the declaration of a state of emergency in the Greater Tokyo Area in response to the pandemic, the first and only Olympic Games to be held without official spectators. \\\n",
        "The Games were the most expensive ever, with total spending of over $20 billion. \\\n",
        "The Games were the fourth Olympic Games to be held in Japan, following the 1964 Summer Olympics (Tokyo), 1972 Winter Olympics (Sapporo), \\\n",
        "and 1998 Winter Olympics (Nagano). Tokyo became the first city in Asia to hold the Summer Olympic Games twice. \\\n",
        "The 2020 Games were the second of three consecutive Olympics to be held in East Asia, following the 2018 Winter Olympics in Pyeongchang, \\\n",
        "South Korea and preceding the 2022 Winter Olympics in Beijing, China. \\\n",
        "Due to the one-year postponement, Tokyo 2020 was the first and only Olympic Games to have been held in an odd-numbered year and the first Summer Olympics since 1900 to be held in a non-leap year.\n",
        "New events were introduced in existing sports, including 3x3 basketball, \\\n",
        "freestyle BMX and mixed gender team events in a number of existing sports, as well as the return of madison cycling for men and an introduction of the same event for women. \\\n",
        "New IOC policies also allowed the host organizing committee to add new sports to the Olympic program for just one Games. \\\n",
        "The disciplines added by the Japanese Olympic Committee were baseball and softball, karate, \\\n",
        "sport climbing, surfing and skateboarding, the last four of which made their Olympic debuts, and the last three of which will remain on the Olympic program. \\\n",
        "The United States topped the medal count by both total golds (39) and total medals (113), with China finishing second by both respects (38 and 89). \\\n",
        "Host nation Japan finished third, setting a record for the most gold medals and total medals ever won by their delegation at an Olympic Games with 27 and 58. \\\n",
        "Great Britain finished fourth, with a total of 22 gold and 64 medals. \\\n",
        "The Russian delegation competing as the ROC finished fifth with 20 gold medals and third in the overall medal count, with 71 medals. \\\n",
        "Bermuda, the Philippines and Qatar won their first-ever Olympic gold medals. Burkina Faso, San Marino and Turkmenistan also won their first-ever Olympic medals.\n",
        "\"\"\""
      ],
      "outputs": [],
      "execution_count": null,
      "metadata": {
        "jupyter": {
          "source_hidden": false,
          "outputs_hidden": false
        },
        "nteract": {
          "transient": {
            "deleting": false
          }
        }
      }
    },
    {
      "cell_type": "code",
      "source": [
        "prompt = f\"\"\"\n",
        "Determine three topics that are being discussed in the \\\n",
        "following text, which is delimited by triple backticks.\n",
        "\n",
        "Make each item one or two words long. \n",
        "\n",
        "Format your response as a list of items separated by commas.\n",
        "\n",
        "Text sample: '''{story}'''\n",
        "\"\"\"\n",
        "response = get_completion(prompt)\n",
        "print(response)"
      ],
      "outputs": [],
      "execution_count": null,
      "metadata": {
        "jupyter": {
          "source_hidden": false,
          "outputs_hidden": false
        },
        "nteract": {
          "transient": {
            "deleting": false
          }
        }
      }
    },
    {
      "cell_type": "markdown",
      "source": [
        "#### Tactic 4: Transforming: specify target language and writing style, and ask for grammar check"
      ],
      "metadata": {
        "nteract": {
          "transient": {
            "deleting": false
          }
        }
      }
    },
    {
      "cell_type": "markdown",
      "source": [
        "#### Student Challenge:\n",
        "Universal Translator\n",
        "\n",
        "People all over the world want to know the Olympic game news in their native language. In this case, the news needs to be translated into different languages. Translate the following news into Korean and English."
      ],
      "metadata": {
        "nteract": {
          "transient": {
            "deleting": false
          }
        }
      }
    },
    {
      "cell_type": "code",
      "source": [
        "news = [\n",
        "\"Palestine received a universality invitation from FINA to send two top-ranked swimmers (one per gender) in their respective individual events to the Olympics, \\\n",
        "based on the FINA Points System of June 28, 2021.\",\n",
        "\"比赛包括两轮：预赛和决赛。预赛成绩最好的8次接力队晋级决赛。必要时使用游泳比赛来打破平局以晋级下一轮。\"]"
      ],
      "outputs": [],
      "execution_count": null,
      "metadata": {
        "jupyter": {
          "source_hidden": false,
          "outputs_hidden": false
        },
        "nteract": {
          "transient": {
            "deleting": false
          }
        },
        "gather": {
          "logged": 1693197984861
        }
      }
    },
    {
      "cell_type": "code",
      "source": [
        "for n in news:\n",
        "    prompt = f\"Tell me what language this is: {n}\"\n",
        "    lang = get_completion(prompt)\n",
        "    print(f\"Original message ({lang}): {n}\")\n",
        "\n",
        "    prompt = f\"\"\"\n",
        "    Translate the following  text to English \\\n",
        "    and Korean: ```{n}```\n",
        "    \"\"\"\n",
        "    response = get_completion(prompt)\n",
        "    print(response, \"\\n\")"
      ],
      "outputs": [],
      "execution_count": null,
      "metadata": {
        "jupyter": {
          "source_hidden": false,
          "outputs_hidden": false
        },
        "nteract": {
          "transient": {
            "deleting": false
          }
        },
        "gather": {
          "logged": 1693197987058
        }
      }
    },
    {
      "cell_type": "markdown",
      "source": [
        "#### Student Challenge:\n",
        "Tone Transformation\n",
        "\n",
        "Writing can vary based on the intended audience. ChatGPT can produce different tones. Transform the following message into a business letter."
      ],
      "metadata": {
        "nteract": {
          "transient": {
            "deleting": false
          }
        }
      }
    },
    {
      "cell_type": "code",
      "source": [
        "trans_message = \"David, it's John! OMG, the Olympic game is so crazy\""
      ],
      "outputs": [],
      "execution_count": null,
      "metadata": {
        "jupyter": {
          "source_hidden": false,
          "outputs_hidden": false
        },
        "nteract": {
          "transient": {
            "deleting": false
          }
        },
        "gather": {
          "logged": 1685082786641
        }
      }
    },
    {
      "cell_type": "code",
      "source": [
        "prompt = f\"\"\"\n",
        "Translate the following from slang to a business letter: \n",
        "{trans_message}\n",
        "\"\"\"\n",
        "response = get_completion(prompt)\n",
        "print(response)"
      ],
      "outputs": [],
      "execution_count": null,
      "metadata": {
        "jupyter": {
          "source_hidden": false,
          "outputs_hidden": false
        },
        "nteract": {
          "transient": {
            "deleting": false
          }
        },
        "gather": {
          "logged": 1685082790191
        }
      }
    },
    {
      "cell_type": "markdown",
      "source": [
        "#### Student Challenge:\n",
        "Format Conversion\n",
        "\n",
        "ChatGPT can translate between formats. The prompt should describe the input and output formats. Convert the following JSON data into HTML format."
      ],
      "metadata": {
        "nteract": {
          "transient": {
            "deleting": false
          }
        }
      }
    },
    {
      "cell_type": "code",
      "source": [
        "data_json = { \"The 2020 Summer Olympics Opening Ceremony audience name list\" :[ \n",
        "    {\"name\":\"Shyam\", \"email\":\"shyamjaiswal@gmail.com\"},\n",
        "    {\"name\":\"Bob\", \"email\":\"bob32@gmail.com\"},\n",
        "    {\"name\":\"Jai\", \"email\":\"jai87@gmail.com\"}\n",
        "]}"
      ],
      "outputs": [],
      "execution_count": null,
      "metadata": {
        "jupyter": {
          "source_hidden": false,
          "outputs_hidden": false
        },
        "nteract": {
          "transient": {
            "deleting": false
          }
        },
        "gather": {
          "logged": 1685083768996
        }
      }
    },
    {
      "cell_type": "code",
      "source": [
        "prompt = f\"\"\"\n",
        "Translate the following python dictionary from JSON to an HTML \\\n",
        "table with column headers and title: {data_json}\n",
        "\"\"\"\n",
        "response = get_completion(prompt)\n",
        "print(response)"
      ],
      "outputs": [],
      "execution_count": null,
      "metadata": {
        "jupyter": {
          "source_hidden": false,
          "outputs_hidden": false
        },
        "nteract": {
          "transient": {
            "deleting": false
          }
        },
        "gather": {
          "logged": 1685083775176
        }
      }
    },
    {
      "cell_type": "markdown",
      "source": [
        "#### Student Challenge:\n",
        "Spellcheck / Grammar check the following text. \n",
        "\n",
        "To signal to the LLM that you want it to proofread your text, you instruct the model to 'proofread' or 'proofread and correct'."
      ],
      "metadata": {
        "nteract": {
          "transient": {
            "deleting": false
          }
        }
      }
    },
    {
      "cell_type": "code",
      "source": [
        "check_text = [ \n",
        "  \"Alongside the main Emblem blue, the five other colors use in the branding of the 2020 Games is : Kurenai red,   Ai blue,   Sakula pink,   Fuji purple, and   Matsuba green.\",\n",
        "  \"The competition have three round: heats, semifinals, and a final.\"\n",
        "]"
      ],
      "outputs": [],
      "execution_count": null,
      "metadata": {
        "jupyter": {
          "source_hidden": false,
          "outputs_hidden": false
        },
        "nteract": {
          "transient": {
            "deleting": false
          }
        },
        "gather": {
          "logged": 1685084954682
        }
      }
    },
    {
      "cell_type": "code",
      "source": [
        "for t in check_text:\n",
        "    prompt = f\"\"\"Proofread and correct the following text\n",
        "    and rewrite the corrected version.:\n",
        "    ```{t}```\"\"\"\n",
        "    response = get_completion(prompt)\n",
        "    print(response)"
      ],
      "outputs": [],
      "execution_count": null,
      "metadata": {
        "jupyter": {
          "source_hidden": false,
          "outputs_hidden": false
        },
        "nteract": {
          "transient": {
            "deleting": false
          }
        },
        "gather": {
          "logged": 1685084959322
        }
      }
    },
    {
      "cell_type": "markdown",
      "source": [
        "#### Tactic 5: Expanding: customize the automated reply"
      ],
      "metadata": {
        "nteract": {
          "transient": {
            "deleting": false
          }
        }
      }
    },
    {
      "cell_type": "markdown",
      "source": [
        "#### Student Challenge:\n",
        "Customize the automated reply to the following customer email.\n",
        "\n",
        "The customer faced an issue while buying the Olympics game ticket."
      ],
      "metadata": {
        "nteract": {
          "transient": {
            "deleting": false
          }
        }
      }
    },
    {
      "cell_type": "code",
      "source": [
        "# given the sentiment from the tactic on \"inferring\",\n",
        "# and the original customer message, customize the email\n",
        "sentiment = \"negative\"\n",
        "\n",
        "# review for a ticket transaction\n",
        "review = f\"\"\"\n",
        "I bought the ticket of \"Men's 100 metre freestyle swimming\" game last week.\\\n",
        "The transaction went through successfully. However, I still have not received the ticket.\\\n",
        "It has passed over one week.\\\n",
        "\"\"\""
      ],
      "outputs": [],
      "execution_count": null,
      "metadata": {
        "jupyter": {
          "source_hidden": false,
          "outputs_hidden": false
        },
        "nteract": {
          "transient": {
            "deleting": false
          }
        },
        "gather": {
          "logged": 1685463156048
        }
      }
    },
    {
      "cell_type": "code",
      "source": [
        "prompt = f\"\"\"\n",
        "You are a customer service AI assistant.\n",
        "Your task is to send an email reply to a valued customer.\n",
        "Given the customer email delimited by ```, \\\n",
        "Generate a reply to thank the customer for their review.\n",
        "If the sentiment is positive or neutral, thank them for \\\n",
        "their review.\n",
        "If the sentiment is negative, apologize and suggest that \\\n",
        "they can reach out to customer service. \n",
        "Make sure to use specific details from the review.\n",
        "Write in a concise and professional tone.\n",
        "Sign the email as `AI customer agent`.\n",
        "Customer review: ```{review}```\n",
        "Review sentiment: {sentiment}\n",
        "\"\"\"\n",
        "response = get_completion(prompt)\n",
        "print(response)"
      ],
      "outputs": [],
      "execution_count": null,
      "metadata": {
        "jupyter": {
          "source_hidden": false,
          "outputs_hidden": false
        },
        "nteract": {
          "transient": {
            "deleting": false
          }
        },
        "gather": {
          "logged": 1685463163602
        }
      }
    },
    {
      "cell_type": "markdown",
      "source": [
        "#### Tactic 6: Chatbot: personalize conversations for specific tasks or behaviors"
      ],
      "metadata": {
        "nteract": {
          "transient": {
            "deleting": false
          }
        }
      }
    },
    {
      "cell_type": "markdown",
      "source": [
        "#### Student Challenge:\n",
        "Create a conversation with chatbot to know where the 2020 Summer Olympics is held."
      ],
      "metadata": {
        "nteract": {
          "transient": {
            "deleting": false
          }
        }
      }
    },
    {
      "cell_type": "code",
      "source": [
        "messages =  [      \n",
        "    {'role':'user', 'content':'tell me about the 2020 Summer Olympics'},   \n",
        "    {'role':'assistant', 'content':'What do you want to know?'},   \n",
        "    {'role':'user', 'content':'Where is the 2020 Summer Olympics held?'}\n",
        "]\n",
        "response = get_completion_from_messages(messages, temperature=1)\n",
        "print(response)"
      ],
      "outputs": [],
      "execution_count": null,
      "metadata": {
        "jupyter": {
          "source_hidden": false,
          "outputs_hidden": false
        },
        "nteract": {
          "transient": {
            "deleting": false
          }
        },
        "gather": {
          "logged": 1685479846590
        }
      }
    },
    {
      "cell_type": "markdown",
      "source": [
        "### 2.2 Give the model time to “think” "
      ],
      "metadata": {
        "nteract": {
          "transient": {
            "deleting": false
          }
        }
      }
    },
    {
      "cell_type": "markdown",
      "source": [
        "#### Tactic 1: Specify the steps required to complete a task"
      ],
      "metadata": {
        "nteract": {
          "transient": {
            "deleting": false
          }
        }
      }
    },
    {
      "cell_type": "markdown",
      "source": [
        "Sometimes you can help the model \"slow down\" and give more robust, detailed answers by specifying the steps it should take."
      ],
      "metadata": {
        "nteract": {
          "transient": {
            "deleting": false
          }
        }
      }
    },
    {
      "cell_type": "markdown",
      "source": [
        "Let's ask for output in multiple specified formats."
      ],
      "metadata": {
        "nteract": {
          "transient": {
            "deleting": false
          }
        }
      }
    },
    {
      "cell_type": "code",
      "source": [
        "prompt = f\"\"\"\n",
        "Your task is to help a journalist summarize information from the article for publication.\n",
        "\n",
        "Write a title based on the information provided in the context delimited by triple backticks. \n",
        "The title should be short, catchy, and reflective of the article's narrative.\n",
        "\n",
        "After the title, generate five keywords from the context.\n",
        "\n",
        "After the keywords, include a table to organize the information. \n",
        "The table should have two columns. In the first column is the title.\n",
        "In the second column include the keywords as a list.\n",
        "\n",
        "Give the table the title 'Article Publishing Information'.\n",
        "\n",
        "Format everything as HTML that can be used in a website.\n",
        "Place the title in a <div> element.\n",
        "\n",
        "Context: ```{text}\n",
        "\n",
        "\"\"\" \n",
        "get_completion(prompt)"
      ],
      "outputs": [],
      "execution_count": null,
      "metadata": {
        "jupyter": {
          "source_hidden": false,
          "outputs_hidden": false
        },
        "nteract": {
          "transient": {
            "deleting": false
          }
        },
        "gather": {
          "logged": 1685051679280
        }
      }
    },
    {
      "cell_type": "markdown",
      "source": [
        "#### Tactic 2: Instruct the model to work out its own solution\n",
        "\n",
        "There are two main methods we will demonstrate in this section to get the model to work through a problem instead of rushing to a conclusion, chain-of-thought and chaining. The strategies can lead to increased accuracy, detail, and the ability to work through complex challenges.\n",
        "\n",
        "\n",
        "2.1 - Chain-of-thought prompting\n",
        "- Ask the model to reason\n",
        "- One-shot example\n",
        "- Chatbot reasoning\n",
        "\n",
        "2.2 - Chaining\n",
        "\n",
        "Let's continue working with the Olympics dataset."
      ],
      "metadata": {
        "nteract": {
          "transient": {
            "deleting": false
          }
        }
      }
    },
    {
      "cell_type": "code",
      "source": [
        "text = f\"\"\"\n",
        "The Olympic Games Tokyo 2020 reached a global broadcast audience of 3.05 billion people, according to independent research conducted on behalf of the International Olympic Committee (IOC). Official coverage on Olympic broadcast partners\\' digital platforms alone generated 28 billion video views in total – representing a 139 per cent increase compared with the Olympic Games Rio 2016 and underlining the changing media landscape and Tokyo 2020\\'s designation as the first streaming Games and the most watched Olympic Games ever on digital platforms.Sony and Panasonic partnered with NHK to develop broadcasting standards for 8K resolution television, with a goal to release 8K television sets in time for the 2020 Summer Olympics. In early 2019, Italian broadcaster RAI announced its intention to deploy 8K broadcasting for the Games. NHK broadcast the opening and closing ceremonies, and coverage of selected events in 8K. Telecom company NTT Docomo signed a deal with Finland\\'s Nokia to provide 5G-ready baseband networks in Japan in time for the Games.The Tokyo Olympics were broadcast in the United States by NBCUniversal networks, as part of a US$4.38 billion agreement that began at the 2014 Winter Olympics in Sochi. The United States Olympic & Paralympic Committee asserted that a \"right of abatement\" clause in the contract was triggered by the delay of the Games to 2021, requiring the IOC to \"negotiate in good faith an equitable reduction in the applicable broadcast rights payments\" by NBC, which remains one of IOC\\'s biggest revenue streams. According to NBCUniversal CEO Jeff Shell, the Tokyo games could be the most profitable Olympics in NBC\\'s history. The Tokyo games were NBC\\'s first Olympics broadcast under current president Susan Rosner Rovner.In Europe, this was the first Summer Olympics under the IOC\\'s exclusive pan-European rights deal with Eurosport, which began at the 2018 Winter Olympics and is contracted to run through 2024. The rights for the 2020 Summer Olympics covered almost all of Europe; a pre-existing deal with a marketer excludes Russia. Eurosport planned to sub-license coverage to free-to-air networks in each territory, and other channels owned by Discovery, Inc. subsidiaries. In the United Kingdom, these were set to be the last Games with rights owned primarily by the BBC, although as a condition of a sub-licensing agreement due to carry into the 2022 and 2024 Games, Eurosport holds exclusive pay television rights. In France, these were the last Games whose rights are primarily owned by France Télévisions. Eurosport debuted as pay television rightsholder, after Canal+ elected to sell its pay television rights as a cost-saving measure.In Canada, the 2020 Games were shown on CBC/Radio-Canada platforms, Sportsnet, TSN and TLN. In Australia, they were aired by Seven Network. In the Indian subcontinent, they were aired by Sony Pictures Networks India (SPN).\n",
        "\"\"\""
      ],
      "outputs": [],
      "execution_count": null,
      "metadata": {
        "jupyter": {
          "source_hidden": false,
          "outputs_hidden": false
        },
        "nteract": {
          "transient": {
            "deleting": false
          }
        },
        "gather": {
          "logged": 1685051977538
        }
      }
    },
    {
      "cell_type": "markdown",
      "source": [
        "#### 2.2.1 Chain-of-Thought Prompting\n",
        "\n",
        "Let's do a bit of math. GPT models occasionally don't do super well on solving direct math problems, so let's walk GPT through the problem.\n",
        "\n",
        "Let's break down tasks into smaller pieces.\n",
        "\n",
        "Read more about methods and whitepaper research here: https://github.com/openai/openai-cookbook/blob/main/techniques_to_improve_reliability.md"
      ],
      "metadata": {
        "nteract": {
          "transient": {
            "deleting": false
          }
        }
      }
    },
    {
      "cell_type": "markdown",
      "source": [
        "**Tactic 1**: You can start by specifically asking the model to simply think step-by-step."
      ],
      "metadata": {
        "nteract": {
          "transient": {
            "deleting": false
          }
        }
      }
    },
    {
      "cell_type": "code",
      "source": [
        "# From Azure documentation\n",
        "prompt = \"Who was the most decorated (maximum medals) individual athlete in the Olympic games that were held at Sydney? Take a step-by-step approach in your response, cite sources and give reasoning before sharing final answer in the below format: ANSWER is: <name>\"\n",
        "get_chat_completion(prompt)\n",
        "\n",
        "\n",
        "# Another example\n",
        "prompt = f\"\"\"\n",
        "What is the largest time zone difference is between the top two countries who \n",
        "won the most gold medals in the 2020 Tokyo olympics?\n",
        "\n",
        "Use the context below and think aloud as you solve the problem, step-by-step.\n",
        "\n",
        "Context: {text}\n",
        "\"\"\"\n",
        "get_chat_completion(prompt)"
      ],
      "outputs": [],
      "execution_count": null,
      "metadata": {
        "jupyter": {
          "source_hidden": false,
          "outputs_hidden": false
        },
        "nteract": {
          "transient": {
            "deleting": false
          }
        }
      }
    },
    {
      "cell_type": "markdown",
      "source": [
        "**Tactic 2: One-shot example**: another common tactic is to provide one example of a query and an ideal response. The model will learn from that example and apply the patterns to a new question."
      ],
      "metadata": {
        "nteract": {
          "transient": {
            "deleting": false
          }
        }
      }
    },
    {
      "cell_type": "code",
      "source": [
        "# Notice how this response may not be ideal, or the most accurate.\n",
        "prompt = f\"\"\"\n",
        "    The United States has 113 total medals, 39 of which are gold medals. \n",
        "    \n",
        "    Great Britain has 64 medals and 22 gold medals. \n",
        "    \n",
        "    How many more silver and bronze medals does the United States have over Great Britain?\n",
        "\"\"\"\n",
        "\n",
        "get_chat_completion(prompt)"
      ],
      "outputs": [],
      "execution_count": null,
      "metadata": {
        "jupyter": {
          "source_hidden": false,
          "outputs_hidden": false
        },
        "nteract": {
          "transient": {
            "deleting": false
          }
        },
        "gather": {
          "logged": 1685053144682
        }
      }
    },
    {
      "cell_type": "code",
      "source": [
        "# Give the model a one-shot example to solve the question more thoroughly\n",
        "\n",
        "prompt = f\"\"\"\n",
        "Question: The United States has 113 total medals, 39 of which are gold medals. How many medals are silver or bronze?\n",
        "Answer:\n",
        "[Step 1] - There are three types of medals: gold, silver, and bronze\n",
        "[Step 2] - We know the gold and total counts of medals, so the number of silver and bronze medals is the difference between the gold (39) and total (113) counts. \n",
        "            113-39=74, so there are 74 silver and bronze medals combined. The answer is 74.\n",
        "\n",
        "===\n",
        "\n",
        "Answer the following question using similar steps above.\n",
        "\n",
        "Question: China has 89 total medals, 38 of which are gold medals. How many silver and bronze medals do they have?\n",
        "Answer:\n",
        "\"\"\"\n",
        "\n",
        "get_chat_completion(prompt)"
      ],
      "outputs": [],
      "execution_count": null,
      "metadata": {
        "jupyter": {
          "source_hidden": false,
          "outputs_hidden": false
        },
        "nteract": {
          "transient": {
            "deleting": false
          }
        }
      }
    },
    {
      "cell_type": "markdown",
      "source": [
        "**Tactic 3: Chatbot chain-of-thought reasoning**\n",
        "\n",
        "You can build in logic using variables so the chatbot can dynamically demonstrate specific ways of thinking about a problem."
      ],
      "metadata": {
        "nteract": {
          "transient": {
            "deleting": false
          }
        }
      }
    },
    {
      "cell_type": "code",
      "source": [
        "# Ask the bot to help you make a decision such as deciding whether to take a job or choose between restaurants.\n",
        "# If the model does not immediately respond to your query, wait 1-5 seconds and retype it.\n",
        "# If it is not allowing you to give an input, restart the kernel in the navigation bar.\n",
        "# Type \"Quit\" to end the session\n",
        "\n",
        "context = '''\n",
        "        You are a decision bot. Your job is to help come to decision by asking a series of questions one at a time and coming to a reasonable decision based on the information provided.\n",
        "\n",
        "        You will use the following format to help create the series of questions.\n",
        "\n",
        "        Template: \n",
        "        [Problem/Scenario/Question]: [Provide a brief description of the problem, scenario, or question.]\n",
        "\n",
        "        Chain of thought:\n",
        "\n",
        "        [Step 1]: Identify the [key element/variable] in the [problem/scenario/question].\n",
        "        [Step 2]: Understand the [relationship/connection] between [element A] and [element B].\n",
        "        [Step 3]: [Analyze/Evaluate/Consider] the [context/implication] of the [relationship/connection] between [element A] and [element B].\n",
        "        [Step 4]: [Conclude/Decide/Determine] the [outcome/solution] based on the [analysis/evaluation/consideration] of [element A], [element B], and their [relationship/connection].\n",
        "        [Answer/Conclusion/Recommendation]: [Provide a coherent and logical response based on the chain of thought.]\n",
        "\n",
        "        You will guide the user though a series of questions one at a time. The first question is broad, and they subsequent questions become more specific. \n",
        "\n",
        "        Begin by introducing yourself and asking the first question (step 1) only and nothing else, in simple and easy way.\n",
        "        '''\n",
        "\n",
        "conversation=[{\"role\": \"system\", \"content\": context}]\n",
        "\n",
        "while(True):\n",
        "    print(len(conversation))\n",
        "    if len(conversation) == 1:\n",
        "        response = get_completion_from_messages(conversation)\n",
        "        conversation.append({\"role\": \"assistant\", \"content\": response})\n",
        "        print(\"\\n\" + response + \"\\n\")\n",
        "    \n",
        "    user_input = input('Enter your response: ')\n",
        "    if user_input == \"Quit\":\n",
        "        break \n",
        "    conversation.append({\"role\": \"user\", \"content\": user_input})\n",
        "    \n",
        "    response = get_completion_from_messages(conversation)\n",
        "    conversation.append({\"role\": \"assistant\", \"content\": response})\n",
        "    print(\"\\n\" + response + \"\\n\")\n",
        "\n",
        "    "
      ],
      "outputs": [],
      "execution_count": null,
      "metadata": {
        "jupyter": {
          "source_hidden": false,
          "outputs_hidden": false
        },
        "nteract": {
          "transient": {
            "deleting": false
          }
        },
        "gather": {
          "logged": 1687292467160
        }
      }
    },
    {
      "cell_type": "markdown",
      "source": [
        "#### 2.2.2 Chaining"
      ],
      "metadata": {
        "nteract": {
          "transient": {
            "deleting": false
          }
        }
      }
    },
    {
      "cell_type": "markdown",
      "source": [
        "Similar to some earlier examples, you can use model outputs from previous queries into other queries. We will show you later in the Hack how to do this at scale."
      ],
      "metadata": {
        "nteract": {
          "transient": {
            "deleting": false
          }
        }
      }
    },
    {
      "cell_type": "code",
      "source": [
        "# Extract medal counts for each country from the news article\n",
        "# Write an article about the summarized information\n",
        "# Provide a title for the summary\n",
        "\n",
        "\n",
        "prompt = f\"\"\"\n",
        "    Based on the context below, write a JSON object that contains the number of gold and total medals for each country.\n",
        "    Context: {text}\n",
        "\"\"\"\n",
        "num_medals_dict = get_chat_completion(prompt)\n",
        "\n",
        "prompt = f\"\"\"\n",
        "    Write a brief article about the winners and losers of the Olympics based on medal count:\n",
        "    {num_medals_dict}\n",
        "\"\"\"\n",
        "summary = get_chat_completion(prompt)\n",
        "print(summary)\n",
        "\n",
        "prompt = f\"\"\"\n",
        "    Give the summary a title in 5 words:\n",
        "    {summary}\n",
        "\"\"\"\n",
        "title = get_chat_completion(prompt)\n",
        "print(title)"
      ],
      "outputs": [],
      "execution_count": null,
      "metadata": {
        "jupyter": {
          "source_hidden": false,
          "outputs_hidden": false
        },
        "nteract": {
          "transient": {
            "deleting": false
          }
        },
        "gather": {
          "logged": 1685051679330
        }
      }
    },
    {
      "cell_type": "markdown",
      "source": [
        "#### **Student challenge** (Chaining): \n",
        "\n",
        "Your job is now to write code that will determine the country that won the most silver and bronze medals combined.\n",
        "\n",
        "We can see that the model performs poorly on answering the question directly."
      ],
      "metadata": {
        "nteract": {
          "transient": {
            "deleting": false
          }
        }
      }
    },
    {
      "cell_type": "code",
      "source": [
        "prompt = f\"\"\"\n",
        "    Based on the context, which country had the most silver and bronze medals?\n",
        "    Context: {text}\n",
        "\"\"\"\n",
        "\n",
        "get_chat_completion(prompt)"
      ],
      "outputs": [],
      "execution_count": null,
      "metadata": {
        "jupyter": {
          "source_hidden": false,
          "outputs_hidden": false
        },
        "nteract": {
          "transient": {
            "deleting": false
          }
        },
        "gather": {
          "logged": 1685053948700
        }
      }
    },
    {
      "cell_type": "markdown",
      "source": [
        "Write prompts in the cell below that will help the model answer the question by breaking down the tasks into different steps.\n",
        "\n",
        "You should be able to get the model to answer the question in 2-3 steps."
      ],
      "metadata": {
        "nteract": {
          "transient": {
            "deleting": false
          }
        }
      }
    },
    {
      "cell_type": "code",
      "source": [
        "### STUDENT CHALLENGE - WRITE CODE HERE ###"
      ],
      "outputs": [],
      "execution_count": null,
      "metadata": {
        "jupyter": {
          "source_hidden": false,
          "outputs_hidden": false
        },
        "nteract": {
          "transient": {
            "deleting": false
          }
        }
      }
    },
    {
      "cell_type": "code",
      "source": [
        "### COACH SOLUTION ###\n",
        "\n",
        "# Extract medal counts for each country from the news article and output a JSON object\n",
        "prompt = f\"\"\"\n",
        "    Based on the context, write a JSON object that contains the number of gold and total medals for each country.\n",
        "    Context: {text}\n",
        "\"\"\"\n",
        "num_medals_dict = get_chat_completion(prompt)\n",
        "\n",
        "# Add a new key representing the silver and bronze medals to the JSON object\n",
        "prompt = f\"\"\"\n",
        "    Calculate the number of silver and bronze (non-gold medals) based on the difference between gold and total medals, and add these counts to the JSON with the key \"silver_bronze\":\n",
        "    {num_medals_dict}\n",
        "\"\"\"\n",
        "new_dict = get_chat_completion(prompt)\n",
        "\n",
        "# Identify the country with the most silver and bronze medals\n",
        "prompt = f\"\"\"\n",
        "    Which country had the most silver and bronze medals?\n",
        "    {new_dict}\n",
        "\"\"\"\n",
        "print(get_chat_completion(prompt))\n"
      ],
      "outputs": [],
      "execution_count": null,
      "metadata": {
        "jupyter": {
          "source_hidden": false,
          "outputs_hidden": false
        },
        "nteract": {
          "transient": {
            "deleting": false
          }
        }
      }
    },
    {
      "cell_type": "markdown",
      "source": [
        "## Success Criteria\n",
        "To complete this challenge successfully:\n",
        "- Demonstrate understanding of types of tasks OpenAI models are capable of\n",
        "- Demonstrate understanding of different hyperparameters in OpneAI models\n",
        "- Demonstrate understanding of different using scenarios of prompt engineering techniques\n",
        "- Be able to perform iterative prompting practice in exercise\n",
        "- Make all the code cells run successfully"
      ],
      "metadata": {
        "nteract": {
          "transient": {
            "deleting": false
          }
        }
      }
    }
  ],
  "metadata": {
    "kernelspec": {
      "name": "python38-azureml",
      "language": "python",
      "display_name": "Python 3.8 - AzureML"
    },
    "language_info": {
      "name": "python",
      "version": "3.8.5",
      "mimetype": "text/x-python",
      "codemirror_mode": {
        "name": "ipython",
        "version": 3
      },
      "pygments_lexer": "ipython3",
      "nbconvert_exporter": "python",
      "file_extension": ".py"
    },
    "microsoft": {
      "ms_spell_check": {
        "ms_spell_check_language": "en"
      },
      "host": {
        "AzureML": {
          "notebookHasBeenCompleted": true
        }
      }
    },
    "nteract": {
      "version": "nteract-front-end@1.0.0"
    },
    "kernel_info": {
      "name": "python38-azureml"
    }
  },
  "nbformat": 4,
  "nbformat_minor": 2
}